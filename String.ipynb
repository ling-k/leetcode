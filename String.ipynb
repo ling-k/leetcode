{
 "cells": [
  {
   "cell_type": "markdown",
   "metadata": {},
   "source": [
    "# String "
   ]
  },
  {
   "cell_type": "markdown",
   "metadata": {},
   "source": [
    "## 27. Remove Element \n",
    "[27. Remove Element](https://leetcode.com/problems/remove-element/)"
   ]
  },
  {
   "cell_type": "markdown",
   "metadata": {},
   "source": [
    "Two pointers (same direction):\n",
    "- [0, i): being processed \n",
    "- [i, j): garbage area \n",
    "- [j, n-1]: unexplored \n",
    "\n",
    "Define the meaning of each pointer. Ensure the correctness of initialization and each step of the algorithm. "
   ]
  },
  {
   "cell_type": "code",
   "execution_count": 1,
   "metadata": {},
   "outputs": [],
   "source": [
    "class Solution:\n",
    "    def removeElement(self, nums, val) -> int:  \n",
    "        if not nums or len(nums) == 0: \n",
    "            return 0 \n",
    "        \n",
    "        i = j = 0  \n",
    "        n = len(nums)\n",
    "        while j != n: \n",
    "            # case 1: delete \n",
    "            if nums[j] == val: \n",
    "                j += 1 \n",
    "            else: \n",
    "                nums[i] = nums[j] \n",
    "                i += 1 \n",
    "                j += 1 \n",
    "        \n",
    "        return i\n",
    "    "
   ]
  },
  {
   "cell_type": "markdown",
   "metadata": {},
   "source": [
    "#### two pointers and three regions \n",
    "    - [0, i):numbers to be kept \n",
    "    - [i, j]: unexplored numbers \n",
    "    - (j, n-1]: numbers to be removed  \n"
   ]
  },
  {
   "cell_type": "code",
   "execution_count": 1,
   "metadata": {},
   "outputs": [],
   "source": [
    "class Solution:\n",
    "    def removeElement(self, nums, val: int) -> int:  \n",
    "        if not nums or len(nums) == 0: \n",
    "            return 0 \n",
    "        \n",
    "        n = len(nums) \n",
    "        # initially, i = 0, j = n-1, because [i, j] is unexplored area. \n",
    "        i = 0 \n",
    "        j = n - 1 \n",
    "        while i <= j:\n",
    "            \n",
    "            if nums[i] == val: \n",
    "                # if current element i is the number to be removed, we swap nums[i] and nums[j]. \n",
    "                nums[i], nums[j] = nums[j], nums[i] \n",
    "                # After swaping, new nums[i] is still unexplored and new nums[j] is to be removed. \n",
    "                # Thus, to maintain the meaning of i and j, we need to decrement j by 1 and keep i \n",
    "                j -= 1 \n",
    "            else: \n",
    "                # if nums[i] is to be kept, \n",
    "                i += 1 \n",
    "\n",
    "        return i\n"
   ]
  },
  {
   "cell_type": "code",
   "execution_count": 5,
   "metadata": {},
   "outputs": [
    {
     "data": {
      "text/plain": [
       "3.0038860290005687"
      ]
     },
     "execution_count": 5,
     "metadata": {},
     "output_type": "execute_result"
    }
   ],
   "source": [
    "from timeit import default_timer as timer \n",
    "import time\n",
    "start = timer() \n",
    "time.sleep(3)\n",
    "end = timer() \n",
    "end - start "
   ]
  },
  {
   "cell_type": "code",
   "execution_count": 28,
   "metadata": {},
   "outputs": [
    {
     "name": "stdout",
     "output_type": "stream",
     "text": [
      "start printing start printg\n",
      "world\n",
      "start printing start printg\n",
      "world\n",
      "start printing start printg\n",
      "world\n",
      "start printing start printg\n",
      "world\n",
      "start printing start printg\n",
      "world\n"
     ]
    }
   ],
   "source": [
    "import func_timeout\n",
    "def long_function(argument1, argument2): \n",
    "    print(argument1, argument2)\n",
    "    while True: pass\n",
    "    return 'universe'\n",
    "\n",
    "def run_function(f, my_argument, arg2, max_wait, default_value):\n",
    "    try:\n",
    "        return func_timeout.func_timeout(max_wait, long_function, args=[my_argument, arg2])\n",
    "    except func_timeout.FunctionTimedOut:\n",
    "        pass\n",
    "    return default_value\n",
    "for _ in range(5):\n",
    "    x = run_function(long_function, 'start printing', 'start printg', 2, 'world')\n",
    "    print(x)\n"
   ]
  },
  {
   "cell_type": "markdown",
   "metadata": {},
   "source": [
    "## 283. Move Zeroes \n",
    "[283. Move Zeroes](https://leetcode.com/problems/move-zeroes/)"
   ]
  },
  {
   "cell_type": "code",
   "execution_count": 1,
   "metadata": {},
   "outputs": [],
   "source": [
    "class Solution:\n",
    "    def moveZeroes(self, nums) -> None:\n",
    "        \"\"\"\n",
    "        Do not return anything, modify nums in-place instead.\n",
    "        \"\"\"\n",
    "        \"\"\"\n",
    "        two pointers: \n",
    "        Define: \n",
    "        j: processing \n",
    "        [0, i): kept \n",
    "        [i, j): 0 area \n",
    "        (j, n): unexplored \n",
    "        \n",
    "        [1,3,12,3,12] \n",
    "                i \n",
    "                     j \n",
    "         \n",
    "         while j < n: \n",
    "            if nums[j] == 0: \n",
    "                # move \n",
    "                j += 1 \n",
    "            else: \n",
    "                # keep \n",
    "                nums[i] = nums[j] \n",
    "                i += 1 \n",
    "                j += 1 \n",
    "        # fill nums[i:] with 0  \n",
    "        while i < n: \n",
    "            nums[i] = 0 \n",
    "            i += 1 \n",
    "        \"\"\" \n",
    "        if len(nums) <= 1: \n",
    "            return  \n",
    "        n = len(nums) \n",
    "        i = 0 \n",
    "        j = 0 \n",
    "        while j < n: \n",
    "            if nums[j] == 0: \n",
    "                j += 1 \n",
    "            else: \n",
    "                nums[i] = nums[j] \n",
    "                j += 1 \n",
    "                i += 1 \n",
    "        \n",
    "        while i < n: \n",
    "            nums[i] = 0 \n",
    "            i += 1 \n",
    "            \n",
    "        return \n",
    "        "
   ]
  },
  {
   "cell_type": "markdown",
   "metadata": {},
   "source": [
    "## 26. Remove Duplicates from Sorted Array \n",
    "[26. Remove Duplicates from Sorted Array](https://leetcode.com/problems/remove-duplicates-from-sorted-array/)"
   ]
  },
  {
   "cell_type": "code",
   "execution_count": 1,
   "metadata": {},
   "outputs": [],
   "source": [
    "class Solution:\n",
    "    def removeDuplicates(self, nums) -> int: \n",
    "        \"\"\" \n",
    "        two pointers: \n",
    "        define: \n",
    "        j: processing \n",
    "        (0, i): processed and kept \n",
    "        [i, j): garbage \n",
    "        (j, n): to be explored \n",
    "        \n",
    "        [0,1,2,3,4,2,2,3,3,4] \n",
    "                   i \n",
    "                             j \n",
    "        \n",
    "        while j < n: \n",
    "            if i == 0 and nums[j] == nums[i-1]: \n",
    "                j += 1 \n",
    "            else: \n",
    "                # keep \n",
    "                nums[i] = nums[j] \n",
    "                i += 1 \n",
    "                j += 1 \n",
    "        \n",
    "        \"\"\" \n",
    "        n = len(nums) \n",
    "        if n <= 1: \n",
    "            return n \n",
    "        \n",
    "        i = 1\n",
    "        j = 1 \n",
    "        \n",
    "        while j < n: \n",
    "            if nums[j] == nums[i-1]: \n",
    "                j += 1 \n",
    "            else: \n",
    "                nums[i] = nums[j] \n",
    "                i += 1 \n",
    "                j += 1 \n",
    "                \n",
    "        return i "
   ]
  },
  {
   "cell_type": "markdown",
   "metadata": {},
   "source": [
    "## 80. Remove Duplicates from Sorted Array II\n",
    "[80. Remove Duplicates from Sorted Array II](https://leetcode.com/problems/remove-duplicates-from-sorted-array-ii/)"
   ]
  },
  {
   "cell_type": "code",
   "execution_count": 3,
   "metadata": {},
   "outputs": [],
   "source": [
    "class Solution:\n",
    "    def removeDuplicates(self, nums) -> int:\n",
    "        if len(nums) <= 2: \n",
    "            return len(nums) \n",
    "        \n",
    "        n = len(nums) \n",
    "        i = j = 2 \n",
    "        \n",
    "        while j != n: \n",
    "            if nums[j] == nums[i-2]: \n",
    "                j += 1 \n",
    "            else: \n",
    "                nums[i] = nums[j]\n",
    "                j += 1 \n",
    "                i += 1 \n",
    "        \n",
    "        return i "
   ]
  },
  {
   "cell_type": "markdown",
   "metadata": {},
   "source": [
    "## 1047. Remove All Adjacent Duplicates In String\n",
    "[1047. Remove All Adjacent Duplicates In String](https://leetcode.com/problems/remove-all-adjacent-duplicates-in-string/)"
   ]
  },
  {
   "attachments": {
    "image.png": {
     "image/png": "[encoded data removed]"
    }
   },
   "cell_type": "markdown",
   "metadata": {},
   "source": [
    "Two pointers solution: \n",
    "\n",
    "Notice: if i, j are initialized as 1, then it will fail for \n",
    "![image.png](attachment:image.png)"
   ]
  },
  {
   "cell_type": "code",
   "execution_count": 1,
   "metadata": {},
   "outputs": [],
   "source": [
    "class Solution:\n",
    "    def removeDuplicates(self, s: str) -> str: \n",
    "        \"\"\"\n",
    "        two pointers solution \n",
    "        \"\"\" \n",
    "        if len(s) <= 1: \n",
    "            return s \n",
    "        \n",
    "        n = len(s)  \n",
    "        a = list(s) \n",
    "        # print(s_list) \n",
    "        i = j = 0  \n",
    "        while j != n: \n",
    "            if i == 0 or a[j] != a[i-1]: \n",
    "                # keep \n",
    "                a[i] = a[j] \n",
    "                i += 1 \n",
    "                j += 1 \n",
    "            else: \n",
    "                # remove \n",
    "                i -= 1 \n",
    "                j += 1 \n",
    "        return ''.join(a[:i]) "
   ]
  },
  {
   "cell_type": "markdown",
   "metadata": {},
   "source": [
    "Stack solution: "
   ]
  },
  {
   "cell_type": "code",
   "execution_count": 9,
   "metadata": {},
   "outputs": [],
   "source": [
    "from collections import deque \n",
    "# stack solution \n",
    "class Solution:\n",
    "    def removeDuplicates(self, s: str) -> str:\n",
    "        if len(s) <= 1: \n",
    "            return s \n",
    "        \n",
    "        i = 1 \n",
    "        \n",
    "        stack = deque([s[0]]) \n",
    "        \n",
    "        while i != len(s): \n",
    "            if len(stack) >= 1 and s[i] == stack[-1]: \n",
    "                stack.pop() \n",
    "            else: \n",
    "                stack.append(s[i]) \n",
    "            i += 1 \n",
    "        return ''.join(list(stack)) \n"
   ]
  },
  {
   "cell_type": "markdown",
   "metadata": {},
   "source": [
    "## 1209. Remove All Adjacent Duplicates in String II\n",
    "[1209. Remove All Adjacent Duplicates in String II](https://leetcode.com/problems/remove-all-adjacent-duplicates-in-string-ii/) "
   ]
  },
  {
   "cell_type": "markdown",
   "metadata": {},
   "source": [
    "Two pointers \n",
    "        \n",
    "        \"\"\"\n",
    "        three pointers, four region. \n",
    "        i, j', j. \n",
    "        [0, i): processed and to be kept \n",
    "        [i, j): garbage area \n",
    "        [j, j'): repeated sequence \n",
    "        [j', n-1]: unexplored \n",
    "        \n",
    "        d e e e d b b c c c b d a a\n",
    "        i  \n",
    "        j \n",
    "          j'\n",
    "          \n",
    "        \"\"\"\n",
    "        "
   ]
  },
  {
   "cell_type": "code",
   "execution_count": null,
   "metadata": {},
   "outputs": [],
   "source": []
  },
  {
   "cell_type": "code",
   "execution_count": 10,
   "metadata": {},
   "outputs": [],
   "source": [
    "# Runtime: 219 ms, faster than 30.33%\n",
    "class Solution:\n",
    "    def removeDuplicates(self, s: str, k: int) -> str:\n",
    "        if len(s) < k or len(s) <= 1: \n",
    "            return s \n",
    "        \n",
    "        n = len(s) \n",
    "        \n",
    "        # fixme: push the first k - 1 elements \n",
    "        stack_count = deque([1])  \n",
    "        stack_res = deque([s[0]])  \n",
    "        i = 1 \n",
    "        # i = k # fixme: check \n",
    "        while i != n: \n",
    "            if len(stack_count) == 0: \n",
    "                stack_count.append(1) \n",
    "                stack_res.append(s[i])\n",
    "            \n",
    "            elif s[i] != stack_res[-1]: \n",
    "                stack_count.append(1) \n",
    "                stack_res.append(s[i])\n",
    "            elif s[i] == stack_res[-1] and stack_count[-1] + 1 < k: \n",
    "                stack_res.append(s[i]) \n",
    "                stack_count[-1] += 1 \n",
    "                 \n",
    "            else:\n",
    "                stack_count.pop()  \n",
    "                for _ in range(k-1):\n",
    "                    if stack_res: \n",
    "                        stack_res.pop()\n",
    "                \n",
    "            i += 1 \n",
    "        \n",
    "        return ''.join(list(stack_res)) \n",
    "            \n",
    "        "
   ]
  },
  {
   "cell_type": "code",
   "execution_count": null,
   "metadata": {},
   "outputs": [],
   "source": [
    "# Runtime: 219 ms, faster than 10.33%\n",
    "\n",
    "class Solution:\n",
    "    def removeDuplicates(self, s: str, k: int) -> str:\n",
    "        if len(s) < k or len(s) <= 1: \n",
    "            return s \n",
    "        \n",
    "        n = len(s) \n",
    "        \n",
    "        # fixme: push the first k - 1 elements \n",
    "        stack_count = deque([1])  \n",
    "#         stack_res = deque([s[0]])  \n",
    "        stack_res = [] \n",
    "        stack_res.append(s[0]) \n",
    "        s_list = list(s) \n",
    "        i = 1 \n",
    "        # i = k # fixme: check \n",
    "        while i != n: \n",
    "            if len(stack_count) == 0: \n",
    "                stack_count.append(1) \n",
    "                stack_res.append(s_list[i])\n",
    "            \n",
    "            elif s_list[i] != stack_res[-1]: \n",
    "                stack_count.append(1) \n",
    "                stack_res.append(s_list[i])\n",
    "            elif s[i] == stack_res[-1] and stack_count[-1] + 1 < k: \n",
    "                stack_res.append(s_list[i]) \n",
    "                stack_count[-1] += 1 \n",
    "                 \n",
    "            else:\n",
    "                stack_count.pop()  \n",
    "                for _ in range(k-1):\n",
    "                    if stack_res: \n",
    "                        stack_res.pop()\n",
    "                \n",
    "            i += 1 \n",
    "        \n",
    "        return ''.join(list(stack_res)) \n",
    "            \n",
    "        "
   ]
  },
  {
   "cell_type": "code",
   "execution_count": null,
   "metadata": {},
   "outputs": [],
   "source": [
    "# Runtime: 163 ms, faster than 50.60%\n",
    "class Solution:\n",
    "    def removeDuplicates(self, s: str, k: int) -> str:\n",
    "        if len(s) < k or len(s) <= 1: \n",
    "            return s \n",
    "        \n",
    "        n = len(s) \n",
    "        \n",
    "        # fixme: push the first k - 1 elements \n",
    "        stack_count = deque([1])  \n",
    "        # stack_res = deque([s[0]])  \n",
    "        stack_res = [] \n",
    "        stack_res.append(s[0]) \n",
    "        s_list = list(s) \n",
    "        i = 1 \n",
    "        # i = k # fixme: check \n",
    "        while i != n: \n",
    "            if len(stack_count) == 0: \n",
    "                stack_count.append(1) \n",
    "                stack_res.append(s_list[i])\n",
    "            \n",
    "            elif s_list[i] != stack_res[-1]: \n",
    "                stack_count.append(1) \n",
    "                stack_res.append(s_list[i])\n",
    "            elif s[i] == stack_res[-1] and stack_count[-1] + 1 < k: \n",
    "                stack_res.append(s_list[i]) \n",
    "                stack_count[-1] += 1 \n",
    "                 \n",
    "            else:\n",
    "                stack_count.pop()  \n",
    "                # pop_num = k - 1 \n",
    "                del stack_res[-(k-1):]\n",
    "            i += 1 \n",
    "        \n",
    "        return ''.join(list(stack_res)) \n",
    "            \n",
    "        "
   ]
  },
  {
   "cell_type": "code",
   "execution_count": 23,
   "metadata": {},
   "outputs": [
    {
     "name": "stdout",
     "output_type": "stream",
     "text": [
      "deque(['Python', 'Java', 'C++', 'Ruby', 'C'])\n",
      "When index is not passed:\n",
      "Return Value: C\n"
     ]
    }
   ],
   "source": [
    "languages = ['Python', 'Java', 'C++', 'Ruby', 'C']\n",
    "\n",
    "from collections import deque \n",
    "languages = deque(languages)\n",
    "print(languages)\n",
    "# del languages[-3:]\n",
    "# remove and return the last item\n",
    "# print('When index is not passed:') \n",
    "# print('Return Value:', languages.pop())"
   ]
  },
  {
   "cell_type": "code",
   "execution_count": 24,
   "metadata": {},
   "outputs": [
    {
     "name": "stdout",
     "output_type": "stream",
     "text": [
      "original languages: ['Python', 'Java', 'C++', 'Ruby', 'C']\n",
      "delete the last 3 elements: ['Python', 'Java']\n"
     ]
    }
   ],
   "source": [
    "languages = ['Python', 'Java', 'C++', 'Ruby', 'C']\n",
    "print('original languages:', languages) \n",
    "del languages[-3:] \n",
    "print('delete the last 3 elements:', languages)\n",
    "\n"
   ]
  },
  {
   "cell_type": "markdown",
   "metadata": {},
   "source": [
    "## 28. Implement strStr() \n",
    "[28. Implement strStr()](https://leetcode.com/problems/implement-strstr/) "
   ]
  },
  {
   "cell_type": "code",
   "execution_count": null,
   "metadata": {},
   "outputs": [],
   "source": [
    "class Solution:\n",
    "    def strStr(self, haystack: str, needle: str) -> int: \n",
    "        if len(haystack) < len(needle): \n",
    "            return -1 \n",
    "        \n",
    "        for i in range(len(haystack) - len(needle) + 1):\n",
    "            match = True \n",
    "            for j in range(len(needle)): \n",
    "                if haystack[i+j] != needle[j]: \n",
    "                    match = False \n",
    "            if match == True: \n",
    "                return i\n",
    "        \n",
    "        return -1  "
   ]
  },
  {
   "cell_type": "markdown",
   "metadata": {},
   "source": [
    "## 344. Reverse String \n",
    "[344. Reverse String](https://leetcode.com/problems/reverse-string/) "
   ]
  },
  {
   "cell_type": "code",
   "execution_count": 8,
   "metadata": {},
   "outputs": [],
   "source": [
    "class Solution:\n",
    "    def reverseString(self, s) -> None:\n",
    "        \"\"\"\n",
    "        Do not return anything, modify s in-place instead.\n",
    "        \"\"\"\n",
    "        n = len(s) \n",
    "        self.helper(s, 0, n - 1) \n",
    "        \n",
    "    def helper(self, s, i, j): \n",
    "        # base case \n",
    "        if i >= j: \n",
    "            return \n",
    "        s[i], s[j] = s[j], s[i] \n",
    "        self.helper(s, i+1, j-1) "
   ]
  },
  {
   "cell_type": "code",
   "execution_count": 29,
   "metadata": {},
   "outputs": [],
   "source": [
    "class Solution:\n",
    "    def reverseString(self, s) -> None:\n",
    "        \"\"\"\n",
    "        Do not return anything, modify s in-place instead.\n",
    "        \"\"\" \n",
    "        \"\"\"\n",
    "        [\"h\",\"e\",\"l\",\"o\"] \n",
    "                  i \n",
    "              j \n",
    "        \n",
    "        \"\"\"\n",
    "        n = len(s) \n",
    "        if n <= 1: \n",
    "            return s  \n",
    "        \n",
    "        i = 0 \n",
    "        j = n - 1 \n",
    "        while i <= j: \n",
    "            s[i], s[j] = s[j], s[i] \n",
    "            i += 1 \n",
    "            j -= 1 "
   ]
  },
  {
   "cell_type": "markdown",
   "metadata": {},
   "source": [
    "## 151. Reverse Words in a String\n",
    "[151. Reverse Words in a String](https://leetcode.com/problems/reverse-words-in-a-string/) "
   ]
  },
  {
   "cell_type": "code",
   "execution_count": 30,
   "metadata": {},
   "outputs": [],
   "source": [
    "class Solution:\n",
    "    def reverseWords(self, s: str) -> str: \n",
    "        \"\"\"\n",
    "        the sky is blue --> eht yks si eulb --> blue is sky the  \n",
    "        \n",
    "        preprocessing to get rid of the additional spaces. \n",
    "        reverse each single word  \n",
    "        the sky is blue\n",
    "                   i \n",
    "                      j \n",
    "        reverse the whole sentence \n",
    "        \n",
    "        \"\"\"\n",
    "        \n",
    "        # preprocessing \n",
    "        arr = s.split() \n",
    "        arr = \" \".join(arr) \n",
    "        arr = list(arr) \n",
    "        \n",
    "        # reverse single word \n",
    "        n = len(arr) \n",
    "        i = 0 \n",
    "        j = 0  \n",
    "        \n",
    "        while j < n: \n",
    "            # move j to the end of the word \n",
    "            while j < n and arr[j] != \" \": \n",
    "                j += 1 \n",
    "            # reverse the word arr[i:j]  \n",
    "            self.reverse(arr, i, j - 1) \n",
    "            \n",
    "            # move i  \n",
    "            i = j + 1 \n",
    "            j = i \n",
    "        \n",
    "        self.reverse(arr, 0, n - 1) \n",
    "        return \"\".join(arr)\n",
    "        \n",
    "            \n",
    "            \n",
    "    def reverse(self, s, i, j): \n",
    "        while i < j: \n",
    "            s[i], s[j] = s[j], s[i] \n",
    "            i += 1 \n",
    "            j -= 1 \n",
    "        "
   ]
  },
  {
   "cell_type": "code",
   "execution_count": 11,
   "metadata": {},
   "outputs": [
    {
     "data": {
      "text/plain": [
       "['e', 'u', 'l', 'b', ' ', 's', 'i', ' ', 'y', 'k', 's', ' ', 'e', 'h', 't']"
      ]
     },
     "execution_count": 11,
     "metadata": {},
     "output_type": "execute_result"
    }
   ],
   "source": [
    "s = \"  the sky  is blue\"\n",
    "# s_list = list(s) \n",
    "s = list(\" \".join(s.split()))[::-1]\n",
    "s"
   ]
  },
  {
   "cell_type": "code",
   "execution_count": 19,
   "metadata": {},
   "outputs": [
    {
     "name": "stdout",
     "output_type": "stream",
     "text": [
      "['the', 'sky', 'is', 'blue']\n"
     ]
    }
   ],
   "source": [
    "s = \"  the sky  is blue\"\n",
    "s_list = s.split()\n",
    "print(s_list)\n",
    "# s_list_join = ' '.join(s_list) \n",
    "# list(s_list_join) "
   ]
  },
  {
   "cell_type": "markdown",
   "metadata": {},
   "source": [
    "## 186. Reverse Words in a String II \n",
    "[186. Reverse Words in a String II](https://leetcode.com/problems/reverse-words-in-a-string-ii/)"
   ]
  },
  {
   "cell_type": "code",
   "execution_count": 22,
   "metadata": {},
   "outputs": [],
   "source": [
    "class Solution:\n",
    "    def reverseWords(self, s) -> None:\n",
    "        \"\"\"\n",
    "        Do not return anything, modify s in-place instead.\n",
    "        \"\"\"\n",
    "        # reverse the whole list \n",
    "        n = len(s) \n",
    "        self.reverse(s, 0, n - 1) \n",
    "        \n",
    "        start = 0 \n",
    "        end = 0 \n",
    "        # reverse each word \n",
    "        while end < n: \n",
    "            while end < n and s[end] != ' ': \n",
    "                end += 1 \n",
    "            self.reverse(s, start, end - 1) \n",
    "            \n",
    "            start = end + 1 \n",
    "            end = start \n",
    "        \n",
    "    def reverse(self, s, start, end): \n",
    "        while start < end: \n",
    "            s[start], s[end] = s[end], s[start] \n",
    "            start += 1 \n",
    "            end -= 1 "
   ]
  },
  {
   "cell_type": "markdown",
   "metadata": {},
   "source": [
    "## 189. Rotate Array \n",
    "[189. Rotate Array](https://leetcode.com/problems/rotate-array/) "
   ]
  },
  {
   "cell_type": "code",
   "execution_count": 21,
   "metadata": {},
   "outputs": [],
   "source": [
    "class Solution:\n",
    "    def rotate(self, nums: List[int], k: int) -> None:\n",
    "        \"\"\"\n",
    "        Do not return anything, modify nums in-place instead.\n",
    "        \"\"\" \n",
    "        \"\"\"\n",
    "        [1,2,3,4,5,6,7], k = 3  -->> [5,6,7,1,2,3,4]   k + n * z, where z \\in Z  \n",
    "        Derive the fomula: m = n - k % n \n",
    "        nums[0, m), nums[m, n] \n",
    "        [1,2,3,4], [5,6,7] --> 4 3 2 1; 7 6 5 --> 5 6 7 1 2 3 4 \n",
    "        \n",
    "        \n",
    "        \"\"\"\n",
    "        n = len(nums) \n",
    "        # if n <= 1: \n",
    "        #     return \n",
    "        # find the pivot m \n",
    "        m = n - k % n \n",
    "        # reverse nums[0, m) \n",
    "        self.reverse(nums, 0, m - 1) \n",
    "        # reverse nums[m, n] \n",
    "        self.reverse(nums, m, n-1) \n",
    "        # reverse nums  \n",
    "        self.reverse(nums, 0, n-1) \n",
    "        \n",
    "        \n",
    "    def reverse(self, s, i, j): \n",
    "        while i < j: \n",
    "            s[i], s[j] = s[j], s[i] \n",
    "            i += 1 \n",
    "            j -= 1 "
   ]
  },
  {
   "cell_type": "markdown",
   "metadata": {},
   "source": [
    "## 125. Valid Palindrome \n",
    "[125. Valid Palindrome](https://leetcode.com/problems/valid-palindrome/) "
   ]
  },
  {
   "cell_type": "code",
   "execution_count": 31,
   "metadata": {},
   "outputs": [],
   "source": [
    "class Solution:\n",
    "    def isPalindrome(self, s: str) -> bool: \n",
    "        \n",
    "        n = len(s) \n",
    "        \n",
    "        i = 0 \n",
    "        j = n - 1 \n",
    "        \n",
    "        while i < j: \n",
    "            # move i and j to a letter or number \n",
    "            # notice: the i < j should be consistent with while. \n",
    "            while i < j and not s[i].isalnum(): \n",
    "                i += 1 \n",
    "            while i < j and not s[j].isalnum():\n",
    "                j -= 1 \n",
    "            \n",
    "            if s[i].lower() != s[j].lower():\n",
    "                return False\n",
    "            \n",
    "            i += 1\n",
    "            j -= 1\n",
    "        \n",
    "        return True "
   ]
  },
  {
   "cell_type": "markdown",
   "metadata": {},
   "source": [
    "## 443. String Compression\n",
    "[443. String Compression](https://leetcode.com/problems/string-compression/) "
   ]
  },
  {
   "cell_type": "code",
   "execution_count": 1,
   "metadata": {},
   "outputs": [],
   "source": [
    "class Solution:\n",
    "    def compress(self, chars) -> int:\n",
    "        \"\"\"\n",
    "        [0, i): processed and kept \n",
    "        [i, j): garbage \n",
    "        j: processing \n",
    "        [j, j'): current chunk \n",
    "        a 2 a b b b  c c c  d e \n",
    "        i \n",
    "        j \n",
    "              j' \n",
    "        \n",
    "        \"\"\"\n",
    "        \n",
    "        if len(chars) == 1: \n",
    "            return 1 \n",
    "        \n",
    "        n = len(chars) \n",
    "        i = 0 \n",
    "        j = 0 \n",
    "        jp = 0\n",
    "        \n",
    "        while j < n: \n",
    "            # move j' to next different \n",
    "            while jp < n and chars[jp] == chars[j]: \n",
    "                jp += 1 \n",
    "            count = jp - j \n",
    "            \n",
    "#             chars[i] = chars[j] \n",
    "#             i += 1 \n",
    "#             if count > 1: \n",
    "#                 # chars[i] = str(count) \n",
    "#                 for s in str(count): \n",
    "#                     chars[i] = s\n",
    "#                     i += 1 \n",
    "            \n",
    "#             j = jp \n",
    "            \n",
    "            if count == 1: \n",
    "                chars[i] = chars[j] \n",
    "                i += 1 \n",
    "                j = jp \n",
    "                # j += 1 \n",
    "            else: \n",
    "                chars[i] = chars[j] \n",
    "                i += 1 \n",
    "                for s in str(count): \n",
    "                    chars[i] = s\n",
    "                    i += 1 \n",
    "                \n",
    "                # chars[i+1] = str(count) # fixme split to single digit string \n",
    "                \n",
    "                j = jp \n",
    "                # i += 2 \n",
    "        return i "
   ]
  },
  {
   "cell_type": "markdown",
   "metadata": {},
   "source": [
    "# Sliding window "
   ]
  },
  {
   "cell_type": "markdown",
   "metadata": {},
   "source": [
    "## 3. Longest Substring Without Repeating Characters \n",
    "[3. Longest Substring Without Repeating Characters](https://leetcode.com/problems/longest-substring-without-repeating-characters/) "
   ]
  },
  {
   "cell_type": "markdown",
   "metadata": {},
   "source": [
    "### fix right  "
   ]
  },
  {
   "cell_type": "code",
   "execution_count": 22,
   "metadata": {},
   "outputs": [],
   "source": [
    "class Solution:\n",
    "    def lengthOfLongestSubstring(self, s: str) -> int: \n",
    "        n = len(s)\n",
    "        if len(s) <= 1: \n",
    "            return len(s) \n",
    "        \n",
    "        l = 0 \n",
    "        res = 1 \n",
    "        hashset = set() \n",
    "        for r in range(n): \n",
    "            # if invalid, make it valid. \n",
    "            while s[r] in hashset: \n",
    "                hashset.remove(s[l]) \n",
    "                l += 1 \n",
    "            \n",
    "            hashset.add(s[r]) \n",
    "            res = max(res, r - l + 1)\n",
    "        \n",
    "        return res \n",
    "    "
   ]
  },
  {
   "cell_type": "code",
   "execution_count": 1,
   "metadata": {},
   "outputs": [
    {
     "data": {
      "text/plain": [
       "0"
      ]
     },
     "execution_count": 1,
     "metadata": {},
     "output_type": "execute_result"
    }
   ],
   "source": [
    "class Solution:\n",
    "    def lengthOfLongestSubstring(self, s: str) -> int:\n",
    "        \"\"\"\n",
    "        sliding window: \n",
    "        i: start index \n",
    "        j: end index \n",
    "        \n",
    "        set: letters in [i, j] \n",
    "        \n",
    "        a b c a b c b b \n",
    "        i \n",
    "        j \n",
    "        \n",
    "        set: {a, b, c, }\n",
    "        \n",
    "        \"\"\"\n",
    "        if len(s) <= 1: \n",
    "            return len(s) \n",
    "        \n",
    "        n = len(s) \n",
    "        i = 0 \n",
    "        j = 0 \n",
    "        res = 0 \n",
    "        hashset = set([s[0]])  \n",
    "        \n",
    "        while j < n - 1: \n",
    "            if s[j+1] not in hashset: \n",
    "                hashset.add(s[j+1])\n",
    "                j += 1  \n",
    "                res = max(res, j-i+1)\n",
    "            else: \n",
    "                hashset.remove(s[i]) \n",
    "                i += 1 \n",
    "        return res \n"
   ]
  },
  {
   "cell_type": "markdown",
   "metadata": {},
   "source": [
    "## 438. Find All Anagrams in a String\n",
    "[438. Find All Anagrams in a String](https://leetcode.com/problems/find-all-anagrams-in-a-string/)\n"
   ]
  },
  {
   "cell_type": "code",
   "execution_count": null,
   "metadata": {},
   "outputs": [],
   "source": [
    "class Solution:\n",
    "    def findAnagrams(self, s: str, p: str):\n",
    "        \"\"\"\n",
    "        i: start \n",
    "        j: end \n",
    "        [i, j]: current substring \n",
    "        \n",
    "        hashmap: element: count for [i, j] \n",
    "        c b a e b a b a c d \n",
    "        i \n",
    "            j \n",
    "        \n",
    "        \"\"\"\n",
    "        \n",
    "        if len(s) < len(p): \n",
    "            return [] \n",
    "        \n",
    "        # counter dict \n",
    "        p_count = Counter(p)  \n",
    "        \n",
    "        n = len(s)\n",
    "        i = 0 \n",
    "        j = len(p) - 1 \n",
    "        # hashmap = {} \n",
    "        # hashmap = dict() \n",
    "        hashmap = defaultdict(int) \n",
    "        # intialize the hashmap \n",
    "        for idx in range(j + 1): \n",
    "            hashmap[s[idx]] += 1 \n",
    "        res = [] \n",
    "        \n",
    "        while j < n:  \n",
    "            if self.is_same_map(p_count, hashmap):  \n",
    "                res.append(i) \n",
    "            hashmap[s[i]] -= 1  # notice \n",
    "            i += 1 \n",
    "            j += 1  \n",
    "            if j < n: \n",
    "                hashmap[s[j]] += 1 \n",
    "        return res \n",
    "                \n",
    "    def is_same_map(self, count, hashmap): \n",
    "        for k, v in count.items(): \n",
    "            if hashmap[k] != v: \n",
    "                return False \n",
    "        return True \n",
    "        "
   ]
  },
  {
   "cell_type": "code",
   "execution_count": 5,
   "metadata": {},
   "outputs": [
    {
     "name": "stdout",
     "output_type": "stream",
     "text": [
      "{1: 'k', 2: 'k'}\n",
      "0\n",
      "1\n"
     ]
    }
   ],
   "source": [
    "# default dict \n",
    "dic = {1: 'k', 2: 'k'} \n",
    "print(dic) \n",
    "# dic[3]\n",
    "ele = dic.get(3, 0) \n",
    "print(ele) \n",
    "dic[3] = dic.get(3, 0) + 1 \n",
    "print(dic[3])\n"
   ]
  },
  {
   "cell_type": "code",
   "execution_count": 13,
   "metadata": {},
   "outputs": [
    {
     "name": "stdout",
     "output_type": "stream",
     "text": [
      "defaultdict(<class 'int'>, {0: 1, 1: 1})\n",
      "0\n"
     ]
    }
   ],
   "source": [
    "# default dict \n",
    "from collections import defaultdict \n",
    "d = defaultdict(int)  \n",
    "# d = dict() \n",
    "# d = {} \n",
    "d[0] = 1 \n",
    "d[1] = 1  \n",
    "print(d)\n",
    "print(d[4]) \n",
    "\n",
    "\n"
   ]
  },
  {
   "cell_type": "code",
   "execution_count": 17,
   "metadata": {},
   "outputs": [
    {
     "name": "stdout",
     "output_type": "stream",
     "text": [
      "Counter({'t': 4, 'c': 2, 'i': 2})\n",
      "4\n",
      "4\n",
      "0\n"
     ]
    }
   ],
   "source": [
    "import collections  \n",
    "p = 'cicitttt' \n",
    "myDictP = collections.Counter(p) \n",
    "print(myDictP) \n",
    "# for i in myDictP.elements(): \n",
    "#     print(i)\n",
    "print(myDictP['t'])\n",
    "print(myDictP.get('t', 0))\n",
    "print(myDictP.get('e', 0))"
   ]
  },
  {
   "cell_type": "markdown",
   "metadata": {},
   "source": [
    "## 485. Max Consecutive Ones\n",
    "[485. Max Consecutive Ones](https://leetcode.com/problems/max-consecutive-ones/) "
   ]
  },
  {
   "cell_type": "code",
   "execution_count": 18,
   "metadata": {},
   "outputs": [],
   "source": [
    "class Solution:\n",
    "    def findMaxConsecutiveOnes(self, nums) -> int: \n",
    "        \"\"\"\n",
    "        count for 1s \n",
    "        \n",
    "        \n",
    "        \"\"\"\n",
    "        \n",
    "        n = len(nums)  \n",
    "        count = 0 \n",
    "        res = 0 \n",
    "        for idx, item in enumerate(nums): \n",
    "            if item == 0: \n",
    "                count = 0 \n",
    "            else: \n",
    "                count += 1 \n",
    "                res = max(count, res)\n",
    "\n",
    "        return res \n",
    "        "
   ]
  },
  {
   "cell_type": "markdown",
   "metadata": {},
   "source": [
    "## 487. Max Consecutive Ones II\n",
    "[487. Max Consecutive Ones II](https://leetcode.com/problems/max-consecutive-ones-ii/)"
   ]
  },
  {
   "cell_type": "code",
   "execution_count": 20,
   "metadata": {},
   "outputs": [],
   "source": [
    "class Solution:\n",
    "    def findMaxConsecutiveOnes(self, nums) -> int: \n",
    "        \"\"\"\n",
    "        sliding window: \n",
    "        [i, j]: current valid subarray \n",
    "        count: current length \n",
    "        num_zeros: # of 0s in [i, j]\n",
    "        1 0 1 1 0 \n",
    "        i \n",
    "          j \n",
    "        \n",
    "        num_zeros \n",
    "        res = max(j-i+1, res)\n",
    "        \n",
    "        \"\"\" \n",
    "        \n",
    "        if len(nums) <= 1: \n",
    "            return len(nums) \n",
    "        \n",
    "        n = len(nums) \n",
    "        i = 0 \n",
    "        j = 0  \n",
    "        res = 0 \n",
    "        num_zeros = 0 \n",
    "        \n",
    "        while j < n: \n",
    "            if nums[j] == 1: \n",
    "                count = j - i + 1\n",
    "                res = max(res, count) \n",
    "            else: \n",
    "                num_zeros += 1 \n",
    "                if num_zeros <= 1: \n",
    "                    count = j - i + 1\n",
    "                    res = max(res, count) \n",
    "                else: \n",
    "                    # invalid \n",
    "                    while i <= j and nums[i] != 0: \n",
    "                        i += 1 \n",
    "                    i += 1 \n",
    "            j += 1 \n",
    "                    \n",
    "        return res "
   ]
  },
  {
   "cell_type": "markdown",
   "metadata": {},
   "source": [
    "## 1004. Max Consecutive Ones III\n",
    "[1004. Max Consecutive Ones III](https://leetcode.com/problems/max-consecutive-ones-iii/) "
   ]
  },
  {
   "cell_type": "markdown",
   "metadata": {},
   "source": [
    "#### key to understand two pointers and sliding window \n",
    "try every start point. \n",
    "\n",
    "arr = [1, 1, 0, 0, 1, 1, 1\n",
    "\n",
    "[l, r): spend all k flips. or less thank k flips. \n",
    "\n",
    "\n",
    "\n",
    "\n"
   ]
  },
  {
   "cell_type": "code",
   "execution_count": 19,
   "metadata": {},
   "outputs": [],
   "source": [
    "class Solution:\n",
    "    def longestOnes(self, nums, k: int) -> int:\n",
    "        \n",
    "        if len(nums) <= k: \n",
    "            return len(nums) \n",
    "        \n",
    "        n = len(nums) \n",
    "        i = 0 \n",
    "        j = 0  \n",
    "        res = 0\n",
    "        num_zeros = 0 \n",
    "        \n",
    "        while j < n: \n",
    "            if nums[j] == 1: \n",
    "                count = j - i + 1\n",
    "                res = max(res, count) \n",
    "            else: \n",
    "                num_zeros += 1 \n",
    "                if num_zeros <= k: \n",
    "                    count = j - i + 1\n",
    "                    res = max(res, count) \n",
    "                else: \n",
    "                    # invalid \n",
    "                    while i <= j and nums[i] != 0: \n",
    "                        i += 1 \n",
    "                    i += 1 \n",
    "            j += 1 \n",
    "                    \n",
    "        return res "
   ]
  },
  {
   "cell_type": "code",
   "execution_count": 21,
   "metadata": {},
   "outputs": [],
   "source": [
    "class Solution:\n",
    "    def longestOnes(self, nums, k: int) -> int: \n",
    "        \"\"\"\n",
    "        sliding window: \n",
    "        fix left, expand right \n",
    "        \n",
    "        increment left, maintain k. \n",
    "        \n",
    "        \"\"\"\n",
    "        \n",
    "        if len(nums) <= k: \n",
    "            return len(nums) \n",
    "        \n",
    "        n = len(nums) \n",
    "        r = 0 \n",
    "        res = 0 \n",
    "        for l in range(n): \n",
    "            # expand right \n",
    "            # teminate condition: r >= n \n",
    "            # or k <= 0 \n",
    "            while r < n and (nums[r] == 1 or (nums[r] == 0 and k > 0)):   \n",
    "                if nums[r] == 0: \n",
    "                    k -= 1 \n",
    "                r += 1 \n",
    "            \n",
    "            res = max(res, r - l) \n",
    "            \n",
    "            if nums[l] == 0: \n",
    "                k += 1 \n",
    "        return res             \n",
    "        "
   ]
  },
  {
   "cell_type": "markdown",
   "metadata": {},
   "source": [
    "### fix right  "
   ]
  },
  {
   "cell_type": "code",
   "execution_count": null,
   "metadata": {},
   "outputs": [],
   "source": [
    "\n",
    "class Solution:\n",
    "    def longestOnes(self, nums, k: int) -> int: \n",
    "        n = len(nums)\n",
    "        if len(nums) <= k: \n",
    "            return len(nums) \n",
    "        \n",
    "        l = 0 \n",
    "        res = 0 \n",
    "        for r in range(n): \n",
    "            \n",
    "            if nums[r] == 0: \n",
    "                k -= 1 \n",
    "                \n",
    "            # if invalid, make it valid  \n",
    "            if k < 0: \n",
    "                while nums[l] != 0: \n",
    "                    l += 1 \n",
    "                l += 1 \n",
    "                k += 1 \n",
    "            \n",
    "#             while l < n and k < 0: \n",
    "#                 if nums[l] == 0: \n",
    "#                     k += 1 \n",
    "#                 l += 1 \n",
    "            \n",
    "            res = max(res, r - l + 1) \n",
    "        return res "
   ]
  },
  {
   "cell_type": "markdown",
   "metadata": {},
   "source": [
    "## 239. Sliding Window Maximum\n",
    "[239. Sliding Window Maximum](https://leetcode.com/problems/sliding-window-maximum/) "
   ]
  },
  {
   "attachments": {
    "image.png": {
     "image/png": "[encoded data removed]"
    }
   },
   "cell_type": "markdown",
   "metadata": {},
   "source": [
    "Window data structure: \n",
    "- add \n",
    "- remove \n",
    "- max \n",
    "![image.png](attachment:image.png)\n"
   ]
  },
  {
   "cell_type": "markdown",
   "metadata": {},
   "source": [
    "Deque: the left most element is the greatest. \n",
    "\n",
    "Deque information: \n",
    "- max in current window  \n",
    "- potential max(s) in subsequent windows \n",
    "\n",
    "How we update the deque as we move the window? \n",
    "- if the max (first element in the deque) is out of the range, we remove it, and thus the second greatest element is the max in current window. \n",
    "- if the max is within the range, then it is the max, and we simply append it to the result.  \n",
    "```\n",
    "         window                max         deque \n",
    "[1]  3  -1  -3  5  3  6  7      1         [1]\n",
    "[1   3] -1  -3  5  3  6  7      3         [3]\n",
    "[1   3  -1] -3  5  3  6  7      3         [3, -1]  # -1 is the potintial max \n",
    "1   [3  -1  -3]  5  3  6  7      3         [3, -1, -3] \n",
    "1    3  [-1  -3  5]  3  6  7      3        [5] \n",
    "1    3  -1  [-3  5  3]  6  7      3        [5, 3]  \n",
    "1    3  -1  -3  [5  3  6]  7      3        [6]  \n",
    "\n",
    "\n",
    "```\n",
    "\n",
    "\n"
   ]
  },
  {
   "cell_type": "markdown",
   "metadata": {},
   "source": [
    "\n",
    "Another example: \n",
    "\n",
    "```\n",
    "[1    3  -1]  3  2  1  1  7      3        [3, -1]   \n",
    "1    [3  -1  3]  2  1  1  7      3        [3, -1]  \n",
    "1    3  -1  3  [2  1  1]  7      3        [6]  \n",
    "\n",
    "```"
   ]
  },
  {
   "cell_type": "code",
   "execution_count": 23,
   "metadata": {},
   "outputs": [],
   "source": [
    "class Solution:\n",
    "    def maxSlidingWindow(self, nums, k: int):\n",
    "        n = len(nums) \n",
    "        window_size = n - k + 1 \n",
    "        res = [0 for _ in range(window_size)] \n",
    "        q = deque() \n",
    "        \n",
    "        for idx, item in enumerate(nums): \n",
    "            # update q: check if current max is out of range  \n",
    "            left_boundry = idx - k + 1\n",
    "            if q and q[0] < left_boundry: \n",
    "                q.popleft() \n",
    "            # update q: push new element to q. \n",
    "            # note: potential max for subsequent windows, order? \n",
    "            while q and nums[q[-1]] <= item:  # note has to be <= \n",
    "            # while q and nums[q[-1]] < item:  # note has to be <= \n",
    "                q.pop()  \n",
    "            q.append(idx) \n",
    "            \n",
    "            # append max to result \n",
    "            if idx >= k - 1: \n",
    "                res[idx - k + 1] = nums[q[0]]   # note append the element rather than the index \n",
    "        \n",
    "        return res \n",
    "        "
   ]
  },
  {
   "cell_type": "markdown",
   "metadata": {},
   "source": [
    "## 295. Find Median from Data Stream\n",
    "[295. Find Median from Data Stream](https://leetcode.com/problems/find-median-from-data-stream/) "
   ]
  },
  {
   "cell_type": "markdown",
   "metadata": {},
   "source": [
    "### Naive approach \n",
    "\n",
    "We call the sort function every time. \n",
    "Time: O(nlog(n)) "
   ]
  },
  {
   "cell_type": "code",
   "execution_count": 24,
   "metadata": {},
   "outputs": [],
   "source": [
    "class MedianFinder:\n",
    "\n",
    "    def __init__(self):\n",
    "        self.data = []  \n",
    "        self.length = 0 \n",
    "        \n",
    "\n",
    "    def addNum(self, num: int) -> None: \n",
    "        self.data.append(num) \n",
    "        self.length = len(self.data)\n",
    "        \n",
    "\n",
    "    def findMedian(self) -> float:\n",
    "        self.data.sort() \n",
    "        if self.length % 2 == 0: \n",
    "            median_idx_1 = self.length // 2 \n",
    "            median_idx_2 = median_idx_1 - 1  \n",
    "            res = self.data[median_idx_1] + self.data[median_idx_2]\n",
    "            return res / 2 \n",
    "        else: \n",
    "            median_idx = (self.length - 1) // 2 \n",
    "            return self.data[median_idx]\n",
    "\n"
   ]
  },
  {
   "cell_type": "markdown",
   "metadata": {},
   "source": [
    "### two-heap \n",
    "\n",
    "time: $log(logn)$ \n",
    "- When we add a number, we need to perform several $log(n)$ operation over the two heaps. \n",
    "- When we call $findMedian$, it only takes O(n). \n",
    "\n"
   ]
  },
  {
   "cell_type": "markdown",
   "metadata": {},
   "source": [
    "[41, 35, 62, 5, 97, 108] \n",
    "\n",
    "Add num to max-heap lo. Since lo received a new element, we must do a balancing step for hi. So remove the largest element from lo and offer it to hi.\n",
    "\n",
    "lo.push(num);                                    // Add to max heap\n",
    "\n",
    "hi.push(lo.top());                               // balancing step\n",
    "lo.pop();\n",
    "\n",
    "\n",
    "Since we do not know the new element, we simply add it to the lower half. Then, we the top element to the higher half, and the arry becomes good again. \n",
    "[108, 97, 62], [41, 35, 5]\n",
    "```\n",
    "num = 34 \n",
    "lo.push(num);  # lo: [41, 34, 35, 5]\n",
    "hi.push(lo.pop());  # high: [108, 97, 62, 41], low: [35, 34, 5] \n",
    "\n",
    "# adjust length: \n",
    "if len(high) > len(low): \n",
    "    low.push(hi.pop())   # high: [108, 97, 62], low: [41, 35, 34, 5] \n",
    "Median is: 41 \n",
    "\n",
    "num = 99 \n",
    "lo.push(num);  # lo: [99, 41, 34, 35, 5]\n",
    "hi.push(lo.pop());  # high: [108, 97, 99, 62], low: [41, 35, 34, 5] \n",
    "\n",
    "Median: (62+41)/2 \n",
    "\n",
    "```\n",
    "\n",
    "\n"
   ]
  },
  {
   "cell_type": "code",
   "execution_count": 43,
   "metadata": {},
   "outputs": [],
   "source": [
    "from heapq import heappush, heappop, heapify\n",
    "\n",
    "class MedianFinder:\n",
    "\n",
    "    def __init__(self):\n",
    "        self.data_high = []\n",
    "        self.data_low = []  \n",
    "        \n",
    "#         self.length = 0 \n",
    "        self.median = 0 \n",
    "        \n",
    "\n",
    "    def addNum(self, num: int) -> None: \n",
    "        heappush(self.data_low, -num)  # max heap, need minus sign \n",
    "        heappush(self.data_high, -heappop(self.data_low))  \n",
    "        # compact version: \n",
    "#         heappush(self.data_high, -heappushpop(self.data_low, -num))  \n",
    "\n",
    "        \n",
    "        length_high = len(self.data_high)\n",
    "        length_low = len(self.data_low)\n",
    "#         self.length = length_low + length_high \n",
    "        \n",
    "        if length_high > length_low: \n",
    "            heappush(self.data_low, -heappop(self.data_high))  \n",
    "            self.median = -self.data_low[0] \n",
    "        else: \n",
    "            self.median = (-self.data_low[0] + self.data_high[0]) / 2  \n",
    "            \n",
    "\n",
    "    def findMedian(self) -> float:\n",
    "        return self.median "
   ]
  },
  {
   "cell_type": "code",
   "execution_count": 46,
   "metadata": {},
   "outputs": [
    {
     "name": "stdout",
     "output_type": "stream",
     "text": [
      "arr original: [41, 35, 62, 5, 97]\n",
      "arr heap add 100: [1, 35, 41, 5, 97, 62]\n",
      "1 1\n",
      "[35, 5, 41, 62, 97]\n"
     ]
    }
   ],
   "source": [
    "from heapq import heappush, heappop, heapify, heappushpop\n",
    "arr = [41, 35, 62, 5, 97] \n",
    "print(\"arr original:\", arr)\n",
    "heappush(arr, 1)\n",
    "print(\"arr heap add 100:\", arr)\n",
    "print(arr[0], heappop(arr))\n",
    "print(arr)\n"
   ]
  },
  {
   "cell_type": "code",
   "execution_count": 4,
   "metadata": {},
   "outputs": [
    {
     "name": "stdout",
     "output_type": "stream",
     "text": [
      "[]\n",
      "[(1, [3, 4, 5])]\n",
      "[(1, [3, 4, 5]), (33, [3, 4, 5])]\n"
     ]
    }
   ],
   "source": [
    "from heapq import heappush, heappop, heapify, heappushpop\n",
    "arr = [] \n",
    "print(arr)\n",
    "a = [3, 4, 5]\n",
    "b = ['d', 4]\n",
    "\n",
    "ele = (1, a)\n",
    "heappush(arr, ele) \n",
    "print(arr) \n",
    "ele = (33, a)\n",
    "\n",
    "heappush(arr, ele) \n",
    "print(arr) \n",
    "\n"
   ]
  },
  {
   "cell_type": "code",
   "execution_count": 47,
   "metadata": {},
   "outputs": [
    {
     "name": "stdout",
     "output_type": "stream",
     "text": [
      "arr original: [-5, -6, -7]\n",
      "arr after heapify: [-7, -6, -5]\n",
      "arr heap add 1: [-6, -1, -5]\n"
     ]
    }
   ],
   "source": [
    "# By default Min Heap is implemented by this class. \n",
    "# But we multiply each value by -1 so that we can use it as MaxHeap.\n",
    "# why: \n",
    "\n",
    "arr = [-5, -6, -7] \n",
    "print(\"arr original:\", arr) \n",
    "heapify(arr) \n",
    "print(\"arr after heapify:\", arr) \n",
    "\n",
    "heappushpop(arr, -1) \n",
    "print(\"arr heap add 1:\", arr)\n",
    "\n"
   ]
  },
  {
   "cell_type": "code",
   "execution_count": null,
   "metadata": {},
   "outputs": [],
   "source": []
  },
  {
   "cell_type": "markdown",
   "metadata": {},
   "source": [
    "## 480. Sliding Window Median\n",
    "[480. Sliding Window Median](https://leetcode.com/problems/sliding-window-median/) "
   ]
  },
  {
   "cell_type": "markdown",
   "metadata": {},
   "source": [
    "Is there a data-structure out there that we can use (in one or more quantities) to obtain the median element extremely fast, say O(1) time while having the ability to perform the other operations fairly efficiently as well?\n",
    "\n",
    "two-heap: \n",
    "\n",
    "heaps: maintain the median of current window. \n",
    "\n",
    "How we update heaps as we move the window? \n",
    "- remove the outdated element from heaps. \n",
    "- add new to the heaps. \n",
    "\n",
    "\n",
    "\n",
    "\n",
    "for loop: \n",
    "\n",
    "1. update heaps for current window \n",
    "2. get median \n"
   ]
  },
  {
   "cell_type": "code",
   "execution_count": null,
   "metadata": {},
   "outputs": [],
   "source": []
  },
  {
   "cell_type": "markdown",
   "metadata": {},
   "source": [
    "## 76. Minimum Window Substring\n",
    "[76. Minimum Window Substring](https://leetcode.com/problems/minimum-window-substring/)"
   ]
  },
  {
   "cell_type": "markdown",
   "metadata": {},
   "source": [
    "Use sliding window and hashmap. \n",
    "\n",
    "```\n",
    "s = \"ADOBECODEBANC\", t = \"ABC\"\n",
    "\"ADOBECODEBANC\"\n",
    "\n",
    "[i, j]: current string \n",
    "hashmap: counter for [i, j] \n",
    "\n",
    "update rule: \n",
    "\n",
    "c a b w e f g e w c  w  a  e   f   g   c   f\n",
    "0 1 2 3 4 5 6 7 8 9 10  11 12  13  14 15  16  \n",
    "\n",
    "\"cae\"\n",
    "\n",
    "Output:\n",
    "\"aefgc\" [11, 15] \n",
    "\n",
    "Expected:\n",
    "\"cwae\" [9, 12] \n",
    "\n",
    "```\n",
    "\n",
    "\n"
   ]
  },
  {
   "cell_type": "code",
   "execution_count": 64,
   "metadata": {},
   "outputs": [],
   "source": [
    "class Solution:\n",
    "    def minWindow(self, s: str, t: str) -> str:\n",
    "        n = len(s)\n",
    "        if n < len(t):\n",
    "            return ''\n",
    "\n",
    "        res_idx = float('inf'), None, None\n",
    "        t_count = Counter(t)\n",
    "        hashmap = defaultdict(int)\n",
    "        l = 0\n",
    "        for r, ch in enumerate(s):\n",
    "            if ch in t_count:\n",
    "                hashmap[ch] += 1\n",
    "\n",
    "                if self.is_contain(t_count, hashmap):\n",
    "                    if r - l + 1 < res_idx[0]:\n",
    "                        res_idx = r - l + 1, l, r\n",
    "\n",
    "                    while l <= r:\n",
    "                        if self.is_contain(t_count, hashmap):\n",
    "                            if r - l + 1 < res_idx[0]:\n",
    "                                res_idx = r - l + 1, l, r\n",
    "\n",
    "                            # res_idx = l - r + 1, l, r\n",
    "                            # !!!!!!!!!!!!!! \n",
    "                            hashmap[s[l]] -= 1  # remove current l\n",
    "                            l += 1\n",
    "                        else:\n",
    "                            break\n",
    "\n",
    "        if res_idx[1] == None:\n",
    "            return ''\n",
    "        else:\n",
    "            return s[res_idx[1]:res_idx[2] + 1]\n",
    "\n",
    "        \n",
    "        \n",
    "    def is_contain(self, t_count, hashmap): \n",
    "        for k, v in t_count.items(): \n",
    "            if hashmap[k] < v: \n",
    "                return False \n",
    "        return True "
   ]
  },
  {
   "cell_type": "code",
   "execution_count": 63,
   "metadata": {},
   "outputs": [
    {
     "name": "stdout",
     "output_type": "stream",
     "text": [
      "defaultdict(<class 'int'>, {'A': 1, 'B': 1, 'C': 1})\n",
      "defaultdict(<class 'int'>, {'A': 1, 'B': 1, 'C': 1})\n",
      "defaultdict(<class 'int'>, {'A': 2, 'B': 1, 'C': 1})\n"
     ]
    },
    {
     "data": {
      "text/plain": [
       "'EBANC'"
      ]
     },
     "execution_count": 63,
     "metadata": {},
     "output_type": "execute_result"
    }
   ],
   "source": [
    "# v1 wrong .... \n",
    "from collections import Counter, defaultdict\n",
    "class Solution:\n",
    "    def minWindow(self, s: str, t: str) -> str:\n",
    "        n = len(s) \n",
    "        if n < len(t): \n",
    "            return '' \n",
    "        \n",
    "        res_idx_a, res_idx_b = None, None  \n",
    "        t_count = Counter(t) \n",
    "        hashmap = defaultdict(int) \n",
    "        l = 0 \n",
    "        for r, ch in enumerate(s): \n",
    "            if ch in t_count: \n",
    "                hashmap[ch] += 1 \n",
    "            \n",
    "                if self.is_contain(t_count, hashmap): \n",
    "                    res_idx_a, res_idx_b = l, r \n",
    "                    print(hashmap)\n",
    "\n",
    "                    while l <= r and self.is_contain(t_count, hashmap): \n",
    "                        res_idx_a, res_idx_b = l, r \n",
    "                        l += 1  \n",
    "                        if s[l] in t_count: \n",
    "                            hashmap[s[l]] -= 1 \n",
    "                    \n",
    "        \n",
    "        if res_idx_a == None: \n",
    "            return '' \n",
    "        else: \n",
    "            return s[res_idx_a:res_idx_b + 1] \n",
    "    \n",
    "    def is_contain(self, t_count, hashmap): \n",
    "        for k, v in t_count.items(): \n",
    "            if hashmap[k] < v: \n",
    "                return False \n",
    "        return True \n",
    "\n",
    "s = \"ABAACBAB\" \n",
    "t = \"ABC\"\n",
    "s = \"ADOBECODEBANC\" \n",
    "t = \"ABC\"\n",
    "a = Solution() \n",
    "a.minWindow(s, t) \n"
   ]
  },
  {
   "cell_type": "code",
   "execution_count": null,
   "metadata": {},
   "outputs": [],
   "source": []
  },
  {
   "cell_type": "code",
   "execution_count": null,
   "metadata": {},
   "outputs": [],
   "source": []
  },
  {
   "cell_type": "markdown",
   "metadata": {},
   "source": [
    "## 42. Trapping Rain Water\n",
    "[42 leetcode](https://leetcode.com/problems/trapping-rain-water/)"
   ]
  },
  {
   "cell_type": "markdown",
   "metadata": {},
   "source": [
    "#### naive solution \n",
    "for each index, we look to the left and right, find the right_max and left_max, \n",
    "caulculate min(left_max, right_max) - cur_height. \n",
    "\n"
   ]
  },
  {
   "cell_type": "code",
   "execution_count": null,
   "metadata": {},
   "outputs": [],
   "source": []
  },
  {
   "cell_type": "markdown",
   "metadata": {},
   "source": [
    "## 407. Trapping Rain Water II \n",
    "[407. Trapping Rain Water II ](https://leetcode.com/problems/trapping-rain-water-ii/)"
   ]
  },
  {
   "cell_type": "code",
   "execution_count": null,
   "metadata": {},
   "outputs": [],
   "source": []
  },
  {
   "cell_type": "markdown",
   "metadata": {},
   "source": [
    "## 84. Largest Rectangle in Histogram \n",
    "[84. Largest Rectangle in Histogram](https://leetcode.com/problems/largest-rectangle-in-histogram/)"
   ]
  },
  {
   "cell_type": "markdown",
   "metadata": {},
   "source": [
    "#### Naive solution "
   ]
  },
  {
   "cell_type": "code",
   "execution_count": null,
   "metadata": {},
   "outputs": [],
   "source": [
    "class Solution:\n",
    "    def largestRectangleArea(self, heights: List[int]) -> int: \n",
    "        res = 0 \n",
    "        n = len(heights) \n",
    "        for i, height in enumerate(heights): \n",
    "            # determine left border  \n",
    "            r = i \n",
    "            l = i \n",
    "            while l >= 0 and l <= n -1 and height <= heights[l]: \n",
    "                l -= 1 \n",
    "            \n",
    "            # determine right border\n",
    "            while r >= 0 and r <= n -1 and height <= heights[r]: \n",
    "                r += 1 \n",
    "            \n",
    "            # calculate and update area \n",
    "            cur_area = height * (r - l - 1)\n",
    "            res = max(res, cur_area)\n",
    "        \n",
    "        return res \n",
    "        \n",
    "        "
   ]
  },
  {
   "attachments": {
    "image.png": {
     "image/png": "[encoded data removed]"
    }
   },
   "cell_type": "markdown",
   "metadata": {},
   "source": [
    "![image.png](attachment:image.png)"
   ]
  },
  {
   "cell_type": "markdown",
   "metadata": {},
   "source": [
    "borders of left, right, and bottom can be easily determined. \n",
    "\n",
    "In an ascending order, we can extend our right border to the right. \n"
   ]
  },
  {
   "cell_type": "code",
   "execution_count": 5,
   "metadata": {},
   "outputs": [],
   "source": [
    "class Solution:\n",
    "    def largestRectangleArea(self, heights) -> int: \n",
    "        res = 0 \n",
    "        heights.insert(0, -1) \n",
    "        heights.append(-1) \n",
    "        n = len(heights) \n",
    "        stack = deque([(0, heights[0])]) \n",
    "        p = 1 \n",
    "        \n",
    "        while p < n: \n",
    "            if stack and stack[-1][1] > heights[p]:  \n",
    "                idx, h = stack.pop() \n",
    "                # determine the left and right borders \n",
    "                l = stack[-1][0] + 1 \n",
    "                r = p - 1 \n",
    "                # calculate and update the area \n",
    "                length = r - l + 1  \n",
    "                cur_area = length * h \n",
    "                res = max(res, cur_area)\n",
    "                \n",
    "            else: \n",
    "                # ascending order \n",
    "                stack.append((p, heights[p])) \n",
    "                p += 1 \n",
    "        \n",
    "        return res "
   ]
  },
  {
   "cell_type": "markdown",
   "metadata": {},
   "source": [
    "## 85. Maximal Rectangle\n",
    "[85. Maximal Rectangle](https://leetcode.com/problems/maximal-rectangle/) "
   ]
  },
  {
   "attachments": {
    "image.png": {
     "image/png": "[encoded data removed]"
    }
   },
   "cell_type": "markdown",
   "metadata": {},
   "source": [
    "This is an extension of 84.  \n",
    "![image.png](attachment:image.png)"
   ]
  },
  {
   "cell_type": "markdown",
   "metadata": {},
   "source": [
    "### deep copy and shallow copy in python \n",
    "[How to Copy List of Lists in Python (Shallow vs Deep)?](https://blog.finxter.com/copy-list-of-lists-in-python-shallow-vs-deep/) "
   ]
  },
  {
   "cell_type": "code",
   "execution_count": 15,
   "metadata": {},
   "outputs": [
    {
     "name": "stdout",
     "output_type": "stream",
     "text": [
      "[[1, 1, 2, 3], [1, 1, 2, 3], [1, 1, 2, 3]]\n",
      "[[1, 1, 2, 3], [1, 1, 2, 3], [1, 1, 2, 3]]\n",
      "[[1, 1, 2, 3], [1, 1, 2, 3], [1, 1, 2, 3]]\n",
      "[[1, 3333, 2, 3], [1, 3333, 2, 3], [1, 3333, 2, 3]]\n",
      "matrix.copy()  [[1, 1, 2, 3], [1, 1, 2, 3], [1, 1, 2, 3]]\n",
      "matrix.copy() modified matrix [[1, 1, 2, 3], [1, 333333, 2, 3], [1, 1, 2, 3]]\n",
      "matrix after modified matrix_copy [[1, 1, 2, 3], [1, 'abb', 2, 3], [1, 1, 2, 3]]\n",
      "deep copy:  [[1, 1, 2, 3], [1, 'abb', 2, 3], [1, 1, 2, 3]]\n",
      "deep copy after modification:  [[1, 1, 2, 3], [1, 'abb', 2, 3], [1, 1, 2, 3]]\n"
     ]
    }
   ],
   "source": [
    "arr = [1, 1, 2, 3] \n",
    "matrix = [arr.copy(), arr.copy(), arr.copy()] \n",
    "print(matrix) \n",
    "mat = [arr, arr, arr]  \n",
    "print(mat) \n",
    "arr[1] = 3333\n",
    "print(matrix) \n",
    "print(mat) \n",
    "\n",
    "matrix_copy = matrix.copy() \n",
    "print('matrix.copy() ', matrix_copy) \n",
    "matrix[1][1] = 333333 \n",
    "print('matrix.copy() modified matrix', matrix_copy) \n",
    "matrix_copy[1][1] = 'abb' \n",
    "print('matrix after modified matrix_copy', matrix) \n",
    "\n",
    "from copy import deepcopy\n",
    "matrix_deep = deepcopy(matrix)  \n",
    "print('deep copy: ', matrix_deep) \n",
    "matrix[1][1] = 'ccc'\n",
    "matrix_copy[0][1] = 'ccc'  \n",
    "print('deep copy after modification: ', matrix_deep) \n"
   ]
  },
  {
   "cell_type": "code",
   "execution_count": 16,
   "metadata": {},
   "outputs": [],
   "source": [
    "class Solution:\n",
    "    def maximalRectangle(self, matrix) -> int: \n",
    "        \n",
    "        res = 0 \n",
    "        \n",
    "        # generate histogram H for each row \n",
    "        hist_matrix = self.generate_histogram(matrix) \n",
    "        \n",
    "        # for row in hist_matrix: \n",
    "        #     print(row)\n",
    "        \n",
    "        # test_hist = hist_matrix[2] \n",
    "        # hist = test_hist \n",
    "        # cur_max = self.largest_rectangle(hist) \n",
    "        # print('test hist', cur_max)    \n",
    "        \n",
    "        # For each row of H, calculate its largest rectangle.  update the max \n",
    "        for hist in hist_matrix: \n",
    "            cur_max = self.largest_rectangle(hist) \n",
    "            res = max(res, cur_max) \n",
    "        \n",
    "        return res \n",
    "    \n",
    "        \n",
    "    def largest_rectangle(self, hist): \n",
    "        from collections import deque \n",
    "        res = 0 \n",
    "        \n",
    "        hist.insert(0, -1) \n",
    "        hist.append(-1) \n",
    "        n = len(hist) \n",
    "        stack = deque([(0, hist[0])])  \n",
    "        p = 1 \n",
    "        while p < n: \n",
    "            if stack and stack[-1][1] > hist[p]: \n",
    "                idx, height = stack.pop() \n",
    "                # determine the left and right border  \n",
    "                l = stack[-1][0] + 1 \n",
    "                r = p - 1 \n",
    "                length = r - l + 1 \n",
    "                # calculate current area and update res \n",
    "                cur_area = length * height \n",
    "                res = max(res, cur_area) \n",
    "                \n",
    "            else: \n",
    "                stack.append((p, hist[p])) \n",
    "                p += 1 \n",
    "        \n",
    "        \n",
    "        return res \n",
    "    \n",
    "    def generate_histogram(self, matrix): \n",
    "        import copy \n",
    "        hists = copy.deepcopy(matrix)  \n",
    "        size_row = len(hists) \n",
    "        size_col = len(hists[0])  \n",
    "        \n",
    "        # first row to int \n",
    "        for c in range(size_col): \n",
    "            hists[0][c] = int(hists[0][c]) \n",
    "            \n",
    "        # remaining \n",
    "        for r in range(1, size_row): \n",
    "            for c in range(size_col): \n",
    "                cur_num = int(hists[r][c])\n",
    "                if cur_num == 1: \n",
    "                    hists[r][c] = 1 + hists[r-1][c] \n",
    "                else:  \n",
    "                    hists[r][c] = 0 \n",
    "        \n",
    "        return hists "
   ]
  },
  {
   "cell_type": "markdown",
   "metadata": {},
   "source": [
    "## 221. Maximal Square\n",
    "[221. Maximal Square](https://leetcode.com/problems/maximal-square/) "
   ]
  },
  {
   "cell_type": "code",
   "execution_count": 17,
   "metadata": {},
   "outputs": [],
   "source": [
    "class Solution:\n",
    "    def maximalSquare(self, matrix) -> int: \n",
    "        \n",
    "        res = 0 \n",
    "        # generate histogram \n",
    "        hist_matrix = self.generate_histogram(matrix) \n",
    "        \n",
    "        for row in hist_matrix: \n",
    "            cur_max = self.largest_rectangle(row) \n",
    "            res = max(res, cur_max) \n",
    "        \n",
    "        return res \n",
    "        \n",
    "    def generate_histogram(self, matrix): \n",
    "        import copy \n",
    "        hists = copy.deepcopy(matrix) \n",
    "        \n",
    "        size_row = len(hists) \n",
    "        size_col = len(hists[0]) \n",
    "        for c in range(size_col): \n",
    "            hists[0][c] = int(hists[0][c]) \n",
    "            \n",
    "        for r in range(1, size_row): \n",
    "            for c in range(size_col): \n",
    "                cur_num = int(hists[r][c]) \n",
    "                if cur_num == 1: \n",
    "                    hists[r][c] = hists[r-1][c] + 1 \n",
    "                else: \n",
    "                    hists[r][c] = 0 \n",
    "        \n",
    "        return hists \n",
    "        \n",
    "        \n",
    "    def largest_rectangle(self, hist): \n",
    "        from collections import deque \n",
    "        hist.insert(0, -1) \n",
    "        hist.append(-1)  \n",
    "        n = len(hist)\n",
    "        stack = deque([(0, hist[0])]) \n",
    "        p = 1 \n",
    "        res = 0 \n",
    "        while p < n: \n",
    "            if stack and stack[-1][1] > hist[p]: \n",
    "                idx, height = stack.pop() \n",
    "                # determine the left and right border \n",
    "                r = p - 1 \n",
    "                l = stack[-1][0] + 1 \n",
    "                length = r - l + 1 \n",
    "                # calculate the area and update res \n",
    "                if length >= height: \n",
    "                    cur_area = height * height \n",
    "                else: \n",
    "                    cur_area = length * length \n",
    "                res = max(res, cur_area) \n",
    "                \n",
    "            else: \n",
    "                stack.append((p, hist[p])) \n",
    "                p += 1 \n",
    "        return res \n"
   ]
  },
  {
   "cell_type": "markdown",
   "metadata": {},
   "source": [
    "## 424. Longest Repeating Character Replacement \n",
    "[424. Longest Repeating Character Replacement](https://leetcode.com/problems/longest-repeating-character-replacement/) "
   ]
  },
  {
   "cell_type": "code",
   "execution_count": null,
   "metadata": {},
   "outputs": [],
   "source": []
  }
 ],
 "metadata": {
  "kernelspec": {
   "display_name": "Python 3",
   "language": "python",
   "name": "python3"
  },
  "language_info": {
   "codemirror_mode": {
    "name": "ipython",
    "version": 3
   },
   "file_extension": ".py",
   "mimetype": "text/x-python",
   "name": "python",
   "nbconvert_exporter": "python",
   "pygments_lexer": "ipython3",
   "version": "3.6.12"
  }
 },
 "nbformat": 4,
 "nbformat_minor": 4
}
