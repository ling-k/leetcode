{
 "cells": [
  {
   "cell_type": "markdown",
   "metadata": {},
   "source": [
    "# String "
   ]
  },
  {
   "cell_type": "markdown",
   "metadata": {},
   "source": [
    "## 27. Remove Element \n",
    "[27. Remove Element](https://leetcode.com/problems/remove-element/)"
   ]
  },
  {
   "cell_type": "markdown",
   "metadata": {},
   "source": [
    "Two pointers (same direction):\n",
    "- [0, i): being processed \n",
    "- [i, j): garbage area \n",
    "- [j, n-1]: unexplored \n",
    "\n",
    "Define the meaning of each pointer. Ensure the correctness of initialization and each step of the algorithm. "
   ]
  },
  {
   "cell_type": "code",
   "execution_count": 1,
   "metadata": {},
   "outputs": [],
   "source": [
    "class Solution:\n",
    "    def removeElement(self, nums, val) -> int:  \n",
    "        if not nums or len(nums) == 0: \n",
    "            return 0 \n",
    "        \n",
    "        i = j = 0  \n",
    "        n = len(nums)\n",
    "        while j != n: \n",
    "            # case 1: delete \n",
    "            if nums[j] == val: \n",
    "                j += 1 \n",
    "            else: \n",
    "                nums[i] = nums[j] \n",
    "                i += 1 \n",
    "                j += 1 \n",
    "        \n",
    "        return i\n",
    "    "
   ]
  },
  {
   "cell_type": "markdown",
   "metadata": {},
   "source": [
    "#### two pointers and three regions \n",
    "    - [0, i):numbers to be kept \n",
    "    - [i, j]: unexplored numbers \n",
    "    - (j, n-1]: numbers to be removed  \n"
   ]
  },
  {
   "cell_type": "code",
   "execution_count": 1,
   "metadata": {},
   "outputs": [],
   "source": [
    "class Solution:\n",
    "    def removeElement(self, nums, val: int) -> int:  \n",
    "        if not nums or len(nums) == 0: \n",
    "            return 0 \n",
    "        \n",
    "        n = len(nums) \n",
    "        # initially, i = 0, j = n-1, because [i, j] is unexplored area. \n",
    "        i = 0 \n",
    "        j = n - 1 \n",
    "        while i <= j:\n",
    "            \n",
    "            if nums[i] == val: \n",
    "                # if current element i is the number to be removed, we swap nums[i] and nums[j]. \n",
    "                nums[i], nums[j] = nums[j], nums[i] \n",
    "                # After swaping, new nums[i] is still unexplored and new nums[j] is to be removed. \n",
    "                # Thus, to maintain the meaning of i and j, we need to decrement j by 1 and keep i \n",
    "                j -= 1 \n",
    "            else: \n",
    "                # if nums[i] is to be kept, \n",
    "                i += 1 \n",
    "\n",
    "        return i\n"
   ]
  },
  {
   "cell_type": "markdown",
   "metadata": {},
   "source": [
    "## 283. Move Zeroes \n",
    "[283. Move Zeroes](https://leetcode.com/problems/move-zeroes/)"
   ]
  },
  {
   "cell_type": "code",
   "execution_count": null,
   "metadata": {},
   "outputs": [],
   "source": []
  },
  {
   "cell_type": "markdown",
   "metadata": {},
   "source": [
    "## 26. Remove Duplicates from Sorted Array \n",
    "[26. Remove Duplicates from Sorted Array](https://leetcode.com/problems/remove-duplicates-from-sorted-array/)"
   ]
  },
  {
   "cell_type": "code",
   "execution_count": 2,
   "metadata": {},
   "outputs": [],
   "source": [
    "class Solution:\n",
    "    def removeDuplicates(self, nums) -> int:\n",
    "        if len(nums) <= 1: \n",
    "            return \n",
    "        \n",
    "        i = j = 1\n",
    "        n = len(nums) \n",
    "        while j != n: \n",
    "            if nums[j] == nums[i-1]: \n",
    "                j += 1 \n",
    "            else: \n",
    "                nums[i] = nums[j]\n",
    "                i += 1\n",
    "                j += 1 \n",
    "        return i "
   ]
  },
  {
   "cell_type": "markdown",
   "metadata": {},
   "source": [
    "## 80. Remove Duplicates from Sorted Array II\n",
    "[80. Remove Duplicates from Sorted Array II](https://leetcode.com/problems/remove-duplicates-from-sorted-array-ii/)"
   ]
  },
  {
   "cell_type": "code",
   "execution_count": 3,
   "metadata": {},
   "outputs": [],
   "source": [
    "class Solution:\n",
    "    def removeDuplicates(self, nums) -> int:\n",
    "        if len(nums) <= 2: \n",
    "            return len(nums) \n",
    "        \n",
    "        n = len(nums) \n",
    "        i = j = 2 \n",
    "        \n",
    "        while j != n: \n",
    "            if nums[j] == nums[i-2]: \n",
    "                j += 1 \n",
    "            else: \n",
    "                nums[i] = nums[j]\n",
    "                j += 1 \n",
    "                i += 1 \n",
    "        \n",
    "        return i "
   ]
  },
  {
   "cell_type": "markdown",
   "metadata": {},
   "source": [
    "## 1047. Remove All Adjacent Duplicates In String\n",
    "[1047. Remove All Adjacent Duplicates In String](https://leetcode.com/problems/remove-all-adjacent-duplicates-in-string/)"
   ]
  },
  {
   "attachments": {
    "image.png": {
     "image/png": "[encoded data removed]"
    }
   },
   "cell_type": "markdown",
   "metadata": {},
   "source": [
    "Two pointers solution: \n",
    "\n",
    "Notice: if i, j are initialized as 1, then it will fail for \n",
    "![image.png](attachment:image.png)"
   ]
  },
  {
   "cell_type": "code",
   "execution_count": 1,
   "metadata": {},
   "outputs": [],
   "source": [
    "class Solution:\n",
    "    def removeDuplicates(self, s: str) -> str: \n",
    "        \"\"\"\n",
    "        two pointers solution \n",
    "        \"\"\" \n",
    "        if len(s) <= 1: \n",
    "            return s \n",
    "        \n",
    "        n = len(s)  \n",
    "        a = list(s) \n",
    "        # print(s_list) \n",
    "        i = j = 0  \n",
    "        while j != n: \n",
    "            if i == 0 or a[j] != a[i-1]: \n",
    "                # keep \n",
    "                a[i] = a[j] \n",
    "                i += 1 \n",
    "                j += 1 \n",
    "            else: \n",
    "                # remove \n",
    "                i -= 1 \n",
    "                j += 1 \n",
    "        return ''.join(a[:i]) "
   ]
  },
  {
   "cell_type": "markdown",
   "metadata": {},
   "source": [
    "Stack solution: "
   ]
  },
  {
   "cell_type": "code",
   "execution_count": 9,
   "metadata": {},
   "outputs": [],
   "source": [
    "from collections import deque \n",
    "# stack solution \n",
    "class Solution:\n",
    "    def removeDuplicates(self, s: str) -> str:\n",
    "        if len(s) <= 1: \n",
    "            return s \n",
    "        \n",
    "        i = 1 \n",
    "        \n",
    "        stack = deque([s[0]]) \n",
    "        \n",
    "        while i != len(s): \n",
    "            if len(stack) >= 1 and s[i] == stack[-1]: \n",
    "                stack.pop() \n",
    "            else: \n",
    "                stack.append(s[i]) \n",
    "            i += 1 \n",
    "        return ''.join(list(stack)) \n"
   ]
  },
  {
   "cell_type": "markdown",
   "metadata": {},
   "source": [
    "## 1209. Remove All Adjacent Duplicates in String II\n",
    "[1209. Remove All Adjacent Duplicates in String II](https://leetcode.com/problems/remove-all-adjacent-duplicates-in-string-ii/) "
   ]
  },
  {
   "cell_type": "markdown",
   "metadata": {},
   "source": [
    "Two pointers \n",
    "        \n",
    "        \"\"\"\n",
    "        three pointers, four region. \n",
    "        i, j', j. \n",
    "        [0, i): processed and to be kept \n",
    "        [i, j): garbage area \n",
    "        [j, j'): repeated sequence \n",
    "        [j', n-1]: unexplored \n",
    "        \n",
    "        d e e e d b b c c c b d a a\n",
    "        i  \n",
    "        j \n",
    "          j'\n",
    "          \n",
    "        \"\"\"\n",
    "        "
   ]
  },
  {
   "cell_type": "code",
   "execution_count": null,
   "metadata": {},
   "outputs": [],
   "source": []
  },
  {
   "cell_type": "code",
   "execution_count": 10,
   "metadata": {},
   "outputs": [],
   "source": [
    "# Runtime: 219 ms, faster than 30.33%\n",
    "class Solution:\n",
    "    def removeDuplicates(self, s: str, k: int) -> str:\n",
    "        if len(s) < k or len(s) <= 1: \n",
    "            return s \n",
    "        \n",
    "        n = len(s) \n",
    "        \n",
    "        # fixme: push the first k - 1 elements \n",
    "        stack_count = deque([1])  \n",
    "        stack_res = deque([s[0]])  \n",
    "        i = 1 \n",
    "        # i = k # fixme: check \n",
    "        while i != n: \n",
    "            if len(stack_count) == 0: \n",
    "                stack_count.append(1) \n",
    "                stack_res.append(s[i])\n",
    "            \n",
    "            elif s[i] != stack_res[-1]: \n",
    "                stack_count.append(1) \n",
    "                stack_res.append(s[i])\n",
    "            elif s[i] == stack_res[-1] and stack_count[-1] + 1 < k: \n",
    "                stack_res.append(s[i]) \n",
    "                stack_count[-1] += 1 \n",
    "                 \n",
    "            else:\n",
    "                stack_count.pop()  \n",
    "                for _ in range(k-1):\n",
    "                    if stack_res: \n",
    "                        stack_res.pop()\n",
    "                \n",
    "            i += 1 \n",
    "        \n",
    "        return ''.join(list(stack_res)) \n",
    "            \n",
    "        "
   ]
  },
  {
   "cell_type": "code",
   "execution_count": null,
   "metadata": {},
   "outputs": [],
   "source": [
    "# Runtime: 219 ms, faster than 10.33%\n",
    "\n",
    "class Solution:\n",
    "    def removeDuplicates(self, s: str, k: int) -> str:\n",
    "        if len(s) < k or len(s) <= 1: \n",
    "            return s \n",
    "        \n",
    "        n = len(s) \n",
    "        \n",
    "        # fixme: push the first k - 1 elements \n",
    "        stack_count = deque([1])  \n",
    "#         stack_res = deque([s[0]])  \n",
    "        stack_res = [] \n",
    "        stack_res.append(s[0]) \n",
    "        s_list = list(s) \n",
    "        i = 1 \n",
    "        # i = k # fixme: check \n",
    "        while i != n: \n",
    "            if len(stack_count) == 0: \n",
    "                stack_count.append(1) \n",
    "                stack_res.append(s_list[i])\n",
    "            \n",
    "            elif s_list[i] != stack_res[-1]: \n",
    "                stack_count.append(1) \n",
    "                stack_res.append(s_list[i])\n",
    "            elif s[i] == stack_res[-1] and stack_count[-1] + 1 < k: \n",
    "                stack_res.append(s_list[i]) \n",
    "                stack_count[-1] += 1 \n",
    "                 \n",
    "            else:\n",
    "                stack_count.pop()  \n",
    "                for _ in range(k-1):\n",
    "                    if stack_res: \n",
    "                        stack_res.pop()\n",
    "                \n",
    "            i += 1 \n",
    "        \n",
    "        return ''.join(list(stack_res)) \n",
    "            \n",
    "        "
   ]
  },
  {
   "cell_type": "code",
   "execution_count": null,
   "metadata": {},
   "outputs": [],
   "source": [
    "# Runtime: 163 ms, faster than 50.60%\n",
    "class Solution:\n",
    "    def removeDuplicates(self, s: str, k: int) -> str:\n",
    "        if len(s) < k or len(s) <= 1: \n",
    "            return s \n",
    "        \n",
    "        n = len(s) \n",
    "        \n",
    "        # fixme: push the first k - 1 elements \n",
    "        stack_count = deque([1])  \n",
    "        # stack_res = deque([s[0]])  \n",
    "        stack_res = [] \n",
    "        stack_res.append(s[0]) \n",
    "        s_list = list(s) \n",
    "        i = 1 \n",
    "        # i = k # fixme: check \n",
    "        while i != n: \n",
    "            if len(stack_count) == 0: \n",
    "                stack_count.append(1) \n",
    "                stack_res.append(s_list[i])\n",
    "            \n",
    "            elif s_list[i] != stack_res[-1]: \n",
    "                stack_count.append(1) \n",
    "                stack_res.append(s_list[i])\n",
    "            elif s[i] == stack_res[-1] and stack_count[-1] + 1 < k: \n",
    "                stack_res.append(s_list[i]) \n",
    "                stack_count[-1] += 1 \n",
    "                 \n",
    "            else:\n",
    "                stack_count.pop()  \n",
    "                # pop_num = k - 1 \n",
    "                del stack_res[-(k-1):]\n",
    "            i += 1 \n",
    "        \n",
    "        return ''.join(list(stack_res)) \n",
    "            \n",
    "        "
   ]
  },
  {
   "cell_type": "code",
   "execution_count": 23,
   "metadata": {},
   "outputs": [
    {
     "name": "stdout",
     "output_type": "stream",
     "text": [
      "deque(['Python', 'Java', 'C++', 'Ruby', 'C'])\n",
      "When index is not passed:\n",
      "Return Value: C\n"
     ]
    }
   ],
   "source": [
    "languages = ['Python', 'Java', 'C++', 'Ruby', 'C']\n",
    "\n",
    "from collections import deque \n",
    "languages = deque(languages)\n",
    "print(languages)\n",
    "# del languages[-3:]\n",
    "# remove and return the last item\n",
    "# print('When index is not passed:') \n",
    "# print('Return Value:', languages.pop())"
   ]
  },
  {
   "cell_type": "code",
   "execution_count": 24,
   "metadata": {},
   "outputs": [
    {
     "name": "stdout",
     "output_type": "stream",
     "text": [
      "original languages: ['Python', 'Java', 'C++', 'Ruby', 'C']\n",
      "delete the last 3 elements: ['Python', 'Java']\n"
     ]
    }
   ],
   "source": [
    "languages = ['Python', 'Java', 'C++', 'Ruby', 'C']\n",
    "print('original languages:', languages) \n",
    "del languages[-3:] \n",
    "print('delete the last 3 elements:', languages)\n",
    "\n"
   ]
  },
  {
   "cell_type": "markdown",
   "metadata": {},
   "source": [
    "## 28. Implement strStr() \n",
    "[28. Implement strStr()](https://leetcode.com/problems/implement-strstr/) "
   ]
  },
  {
   "cell_type": "code",
   "execution_count": null,
   "metadata": {},
   "outputs": [],
   "source": [
    "class Solution:\n",
    "    def strStr(self, haystack: str, needle: str) -> int: \n",
    "        if len(haystack) < len(needle): \n",
    "            return -1 \n",
    "        \n",
    "        for i in range(len(haystack) - len(needle) + 1):\n",
    "            match = True \n",
    "            for j in range(len(needle)): \n",
    "                if haystack[i+j] != needle[j]: \n",
    "                    match = False \n",
    "            if match == True: \n",
    "                return i\n",
    "        \n",
    "        return -1  "
   ]
  },
  {
   "cell_type": "markdown",
   "metadata": {},
   "source": [
    "## 344. Reverse String \n",
    "[344. Reverse String](https://leetcode.com/problems/reverse-string/) "
   ]
  },
  {
   "cell_type": "code",
   "execution_count": 8,
   "metadata": {},
   "outputs": [],
   "source": [
    "class Solution:\n",
    "    def reverseString(self, s) -> None:\n",
    "        \"\"\"\n",
    "        Do not return anything, modify s in-place instead.\n",
    "        \"\"\"\n",
    "        n = len(s) \n",
    "        self.helper(s, 0, n - 1) \n",
    "        \n",
    "    def helper(self, s, i, j): \n",
    "        # base case \n",
    "        if i >= j: \n",
    "            return \n",
    "        s[i], s[j] = s[j], s[i] \n",
    "        self.helper(s, i+1, j-1) "
   ]
  },
  {
   "cell_type": "markdown",
   "metadata": {},
   "source": [
    "## 151. Reverse Words in a String\n",
    "[151. Reverse Words in a String](https://leetcode.com/problems/reverse-words-in-a-string/) "
   ]
  },
  {
   "cell_type": "code",
   "execution_count": 20,
   "metadata": {},
   "outputs": [],
   "source": [
    "class Solution:\n",
    "    def reverseWords(self, s: str) -> str:\n",
    "        # preprocess and reverse \n",
    "        s = list(\" \".join(s.split())) \n",
    "        # print(s) \n",
    "        \n",
    "        start = 0 \n",
    "        end = 0 \n",
    "        while end < len(s): # \n",
    "            while end < len(s) and s[end] != ' ':  #  \n",
    "                end += 1 \n",
    "            self.reverse_single(s, start, end-1) \n",
    "            start = end + 1 \n",
    "            end = start \n",
    "        \n",
    "        self.reverse_single(s, 0, len(s) - 1) \n",
    "        \n",
    "        return ''.join(s) \n",
    "        \n",
    "    def reverse_single(self, s, start, end): \n",
    "        n = len(s) \n",
    "        i = start\n",
    "        j = end \n",
    "        while i < j: \n",
    "            s[i], s[j] = s[j], s[i] \n",
    "            i += 1 \n",
    "            j -= 1  \n",
    "        "
   ]
  },
  {
   "cell_type": "code",
   "execution_count": 11,
   "metadata": {},
   "outputs": [
    {
     "data": {
      "text/plain": [
       "['e', 'u', 'l', 'b', ' ', 's', 'i', ' ', 'y', 'k', 's', ' ', 'e', 'h', 't']"
      ]
     },
     "execution_count": 11,
     "metadata": {},
     "output_type": "execute_result"
    }
   ],
   "source": [
    "s = \"  the sky  is blue\"\n",
    "# s_list = list(s) \n",
    "s = list(\" \".join(s.split()))[::-1]\n",
    "s"
   ]
  },
  {
   "cell_type": "code",
   "execution_count": 19,
   "metadata": {},
   "outputs": [
    {
     "name": "stdout",
     "output_type": "stream",
     "text": [
      "['the', 'sky', 'is', 'blue']\n"
     ]
    }
   ],
   "source": [
    "s = \"  the sky  is blue\"\n",
    "s_list = s.split()\n",
    "print(s_list)\n",
    "# s_list_join = ' '.join(s_list) \n",
    "# list(s_list_join) "
   ]
  },
  {
   "cell_type": "markdown",
   "metadata": {},
   "source": [
    "## 186. Reverse Words in a String II \n",
    "[186. Reverse Words in a String II](https://leetcode.com/problems/reverse-words-in-a-string-ii/)"
   ]
  },
  {
   "cell_type": "code",
   "execution_count": 22,
   "metadata": {},
   "outputs": [],
   "source": [
    "class Solution:\n",
    "    def reverseWords(self, s) -> None:\n",
    "        \"\"\"\n",
    "        Do not return anything, modify s in-place instead.\n",
    "        \"\"\"\n",
    "        # reverse the whole list \n",
    "        n = len(s) \n",
    "        self.reverse(s, 0, n - 1) \n",
    "        \n",
    "        start = 0 \n",
    "        end = 0 \n",
    "        # reverse each word \n",
    "        while end < n: \n",
    "            while end < n and s[end] != ' ': \n",
    "                end += 1 \n",
    "            self.reverse(s, start, end - 1) \n",
    "            \n",
    "            start = end + 1 \n",
    "            end = start \n",
    "        \n",
    "    def reverse(self, s, start, end): \n",
    "        while start < end: \n",
    "            s[start], s[end] = s[end], s[start] \n",
    "            start += 1 \n",
    "            end -= 1 "
   ]
  },
  {
   "cell_type": "markdown",
   "metadata": {},
   "source": [
    "## 189. Rotate Array \n",
    "[189. Rotate Array](https://leetcode.com/problems/rotate-array/) "
   ]
  },
  {
   "cell_type": "code",
   "execution_count": 21,
   "metadata": {},
   "outputs": [],
   "source": [
    "class Solution:\n",
    "    def rotate(self, nums, k: int) -> None:\n",
    "        \"\"\"\n",
    "        Do not return anything, modify nums in-place instead.\n",
    "        \"\"\" \n",
    "        if len(nums) <= 1: \n",
    "            return nums \n",
    "        \n",
    "        n = len(nums) \n",
    "        idx_partition = n - k % n \n",
    "        # print(idx_partition)  \n",
    "        # [0, idx_parttion0]  \n",
    "        self.reverse(nums, 0, idx_partition-1) \n",
    "        self.reverse(nums, idx_partition, n-1) \n",
    "        self.reverse(nums, 0, n-1) \n",
    "\n",
    "        \n",
    "    def reverse(self, nums, start, end): \n",
    "        while start < end: \n",
    "            nums[start], nums[end] = nums[end], nums[start] \n",
    "            start += 1 \n",
    "            end -= 1 "
   ]
  },
  {
   "cell_type": "markdown",
   "metadata": {},
   "source": [
    "## 125. Valid Palindrome \n",
    "[125. Valid Palindrome](https://leetcode.com/problems/valid-palindrome/) "
   ]
  },
  {
   "cell_type": "code",
   "execution_count": 23,
   "metadata": {},
   "outputs": [],
   "source": [
    "class Solution:\n",
    "    def isPalindrome(self, s: str) -> bool: \n",
    "        \n",
    "        n = len(s) \n",
    "        \n",
    "        i = 0 \n",
    "        j = n - 1 \n",
    "        \n",
    "        while i < j: \n",
    "            # move i and j to a letter or number \n",
    "            while i < j and not s[i].isalnum(): \n",
    "                i += 1 \n",
    "            while i < j and not s[j].isalnum():\n",
    "                j -= 1 \n",
    "            \n",
    "            if s[i].lower() != s[j].lower():\n",
    "                return False\n",
    "            \n",
    "            i += 1\n",
    "            j -= 1\n",
    "        \n",
    "        return True "
   ]
  },
  {
   "cell_type": "markdown",
   "metadata": {},
   "source": [
    "## 443. String Compression\n",
    "[443. String Compression](https://leetcode.com/problems/string-compression/) "
   ]
  },
  {
   "cell_type": "code",
   "execution_count": 1,
   "metadata": {},
   "outputs": [],
   "source": [
    "class Solution:\n",
    "    def compress(self, chars) -> int:\n",
    "        \"\"\"\n",
    "        [0, i): processed and kept \n",
    "        [i, j): garbage \n",
    "        j: processing \n",
    "        [j, j'): current chunk \n",
    "        a 2 a b b b  c c c  d e \n",
    "        i \n",
    "        j \n",
    "              j' \n",
    "        \n",
    "        \"\"\"\n",
    "        \n",
    "        if len(chars) == 1: \n",
    "            return 1 \n",
    "        \n",
    "        n = len(chars) \n",
    "        i = 0 \n",
    "        j = 0 \n",
    "        jp = 0\n",
    "        \n",
    "        while j < n: \n",
    "            # move j' to next different \n",
    "            while jp < n and chars[jp] == chars[j]: \n",
    "                jp += 1 \n",
    "            count = jp - j \n",
    "            \n",
    "#             chars[i] = chars[j] \n",
    "#             i += 1 \n",
    "#             if count > 1: \n",
    "#                 # chars[i] = str(count) \n",
    "#                 for s in str(count): \n",
    "#                     chars[i] = s\n",
    "#                     i += 1 \n",
    "            \n",
    "#             j = jp \n",
    "            \n",
    "            if count == 1: \n",
    "                chars[i] = chars[j] \n",
    "                i += 1 \n",
    "                j = jp \n",
    "                # j += 1 \n",
    "            else: \n",
    "                chars[i] = chars[j] \n",
    "                i += 1 \n",
    "                for s in str(count): \n",
    "                    chars[i] = s\n",
    "                    i += 1 \n",
    "                \n",
    "                # chars[i+1] = str(count) # fixme split to single digit string \n",
    "                \n",
    "                j = jp \n",
    "                # i += 2 \n",
    "        return i "
   ]
  },
  {
   "cell_type": "markdown",
   "metadata": {},
   "source": [
    "# Sliding window "
   ]
  },
  {
   "cell_type": "markdown",
   "metadata": {},
   "source": [
    "## 3. Longest Substring Without Repeating Characters \n",
    "[3. Longest Substring Without Repeating Characters](https://leetcode.com/problems/longest-substring-without-repeating-characters/) "
   ]
  },
  {
   "cell_type": "markdown",
   "metadata": {},
   "source": [
    "### fix right  "
   ]
  },
  {
   "cell_type": "code",
   "execution_count": 22,
   "metadata": {},
   "outputs": [],
   "source": [
    "class Solution:\n",
    "    def lengthOfLongestSubstring(self, s: str) -> int: \n",
    "        n = len(s)\n",
    "        if len(s) <= 1: \n",
    "            return len(s) \n",
    "        \n",
    "        l = 0 \n",
    "        res = 1 \n",
    "        hashset = set() \n",
    "        for r in range(n): \n",
    "            # if invalid, make it valid. \n",
    "            while s[r] in hashset: \n",
    "                hashset.remove(s[l]) \n",
    "                l += 1 \n",
    "            \n",
    "            hashset.add(s[r]) \n",
    "            res = max(res, r - l + 1)\n",
    "        \n",
    "        return res \n",
    "    "
   ]
  },
  {
   "cell_type": "code",
   "execution_count": 1,
   "metadata": {},
   "outputs": [
    {
     "data": {
      "text/plain": [
       "0"
      ]
     },
     "execution_count": 1,
     "metadata": {},
     "output_type": "execute_result"
    }
   ],
   "source": [
    "class Solution:\n",
    "    def lengthOfLongestSubstring(self, s: str) -> int:\n",
    "        \"\"\"\n",
    "        sliding window: \n",
    "        i: start index \n",
    "        j: end index \n",
    "        \n",
    "        set: letters in [i, j] \n",
    "        \n",
    "        a b c a b c b b \n",
    "        i \n",
    "        j \n",
    "        \n",
    "        set: {a, b, c, }\n",
    "        \n",
    "        \"\"\"\n",
    "        if len(s) <= 1: \n",
    "            return len(s) \n",
    "        \n",
    "        n = len(s) \n",
    "        i = 0 \n",
    "        j = 0 \n",
    "        res = 0 \n",
    "        hashset = set([s[0]])  \n",
    "        \n",
    "        while j < n - 1: \n",
    "            if s[j+1] not in hashset: \n",
    "                hashset.add(s[j+1])\n",
    "                j += 1  \n",
    "                res = max(res, j-i+1)\n",
    "            else: \n",
    "                hashset.remove(s[i]) \n",
    "                i += 1 \n",
    "        return res \n"
   ]
  },
  {
   "cell_type": "markdown",
   "metadata": {},
   "source": [
    "## 438. Find All Anagrams in a String\n",
    "[438. Find All Anagrams in a String](https://leetcode.com/problems/find-all-anagrams-in-a-string/)\n"
   ]
  },
  {
   "cell_type": "code",
   "execution_count": null,
   "metadata": {},
   "outputs": [],
   "source": [
    "class Solution:\n",
    "    def findAnagrams(self, s: str, p: str):\n",
    "        \"\"\"\n",
    "        i: start \n",
    "        j: end \n",
    "        [i, j]: current substring \n",
    "        \n",
    "        hashmap: element: count for [i, j] \n",
    "        c b a e b a b a c d \n",
    "        i \n",
    "            j \n",
    "        \n",
    "        \"\"\"\n",
    "        \n",
    "        if len(s) < len(p): \n",
    "            return [] \n",
    "        \n",
    "        # counter dict \n",
    "        p_count = Counter(p)  \n",
    "        \n",
    "        n = len(s)\n",
    "        i = 0 \n",
    "        j = len(p) - 1 \n",
    "        # hashmap = {} \n",
    "        # hashmap = dict() \n",
    "        hashmap = defaultdict(int) \n",
    "        # intialize the hashmap \n",
    "        for idx in range(j + 1): \n",
    "            hashmap[s[idx]] += 1 \n",
    "        res = [] \n",
    "        \n",
    "        while j < n:  \n",
    "            if self.is_same_map(p_count, hashmap):  \n",
    "                res.append(i) \n",
    "            hashmap[s[i]] -= 1  # notice \n",
    "            i += 1 \n",
    "            j += 1  \n",
    "            if j < n: \n",
    "                hashmap[s[j]] += 1 \n",
    "        return res \n",
    "                \n",
    "    def is_same_map(self, count, hashmap): \n",
    "        for k, v in count.items(): \n",
    "            if hashmap[k] != v: \n",
    "                return False \n",
    "        return True \n",
    "        "
   ]
  },
  {
   "cell_type": "code",
   "execution_count": 5,
   "metadata": {},
   "outputs": [
    {
     "name": "stdout",
     "output_type": "stream",
     "text": [
      "{1: 'k', 2: 'k'}\n",
      "0\n",
      "1\n"
     ]
    }
   ],
   "source": [
    "# default dict \n",
    "dic = {1: 'k', 2: 'k'} \n",
    "print(dic) \n",
    "# dic[3]\n",
    "ele = dic.get(3, 0) \n",
    "print(ele) \n",
    "dic[3] = dic.get(3, 0) + 1 \n",
    "print(dic[3])\n"
   ]
  },
  {
   "cell_type": "code",
   "execution_count": 13,
   "metadata": {},
   "outputs": [
    {
     "name": "stdout",
     "output_type": "stream",
     "text": [
      "defaultdict(<class 'int'>, {0: 1, 1: 1})\n",
      "0\n"
     ]
    }
   ],
   "source": [
    "# default dict \n",
    "from collections import defaultdict \n",
    "d = defaultdict(int)  \n",
    "# d = dict() \n",
    "# d = {} \n",
    "d[0] = 1 \n",
    "d[1] = 1  \n",
    "print(d)\n",
    "print(d[4]) \n",
    "\n",
    "\n"
   ]
  },
  {
   "cell_type": "code",
   "execution_count": 17,
   "metadata": {},
   "outputs": [
    {
     "name": "stdout",
     "output_type": "stream",
     "text": [
      "Counter({'t': 4, 'c': 2, 'i': 2})\n",
      "4\n",
      "4\n",
      "0\n"
     ]
    }
   ],
   "source": [
    "import collections  \n",
    "p = 'cicitttt' \n",
    "myDictP = collections.Counter(p) \n",
    "print(myDictP) \n",
    "# for i in myDictP.elements(): \n",
    "#     print(i)\n",
    "print(myDictP['t'])\n",
    "print(myDictP.get('t', 0))\n",
    "print(myDictP.get('e', 0))"
   ]
  },
  {
   "cell_type": "markdown",
   "metadata": {},
   "source": [
    "## 485. Max Consecutive Ones\n",
    "[485. Max Consecutive Ones](https://leetcode.com/problems/max-consecutive-ones/) "
   ]
  },
  {
   "cell_type": "code",
   "execution_count": 18,
   "metadata": {},
   "outputs": [],
   "source": [
    "class Solution:\n",
    "    def findMaxConsecutiveOnes(self, nums) -> int: \n",
    "        \"\"\"\n",
    "        count for 1s \n",
    "        \n",
    "        \n",
    "        \"\"\"\n",
    "        \n",
    "        n = len(nums)  \n",
    "        count = 0 \n",
    "        res = 0 \n",
    "        for idx, item in enumerate(nums): \n",
    "            if item == 0: \n",
    "                count = 0 \n",
    "            else: \n",
    "                count += 1 \n",
    "                res = max(count, res)\n",
    "\n",
    "        return res \n",
    "        "
   ]
  },
  {
   "cell_type": "markdown",
   "metadata": {},
   "source": [
    "## 487. Max Consecutive Ones II\n",
    "[487. Max Consecutive Ones II](https://leetcode.com/problems/max-consecutive-ones-ii/)"
   ]
  },
  {
   "cell_type": "code",
   "execution_count": 20,
   "metadata": {},
   "outputs": [],
   "source": [
    "class Solution:\n",
    "    def findMaxConsecutiveOnes(self, nums) -> int: \n",
    "        \"\"\"\n",
    "        sliding window: \n",
    "        [i, j]: current valid subarray \n",
    "        count: current length \n",
    "        num_zeros: # of 0s in [i, j]\n",
    "        1 0 1 1 0 \n",
    "        i \n",
    "          j \n",
    "        \n",
    "        num_zeros \n",
    "        res = max(j-i+1, res)\n",
    "        \n",
    "        \"\"\" \n",
    "        \n",
    "        if len(nums) <= 1: \n",
    "            return len(nums) \n",
    "        \n",
    "        n = len(nums) \n",
    "        i = 0 \n",
    "        j = 0  \n",
    "        res = 0 \n",
    "        num_zeros = 0 \n",
    "        \n",
    "        while j < n: \n",
    "            if nums[j] == 1: \n",
    "                count = j - i + 1\n",
    "                res = max(res, count) \n",
    "            else: \n",
    "                num_zeros += 1 \n",
    "                if num_zeros <= 1: \n",
    "                    count = j - i + 1\n",
    "                    res = max(res, count) \n",
    "                else: \n",
    "                    # invalid \n",
    "                    while i <= j and nums[i] != 0: \n",
    "                        i += 1 \n",
    "                    i += 1 \n",
    "            j += 1 \n",
    "                    \n",
    "        return res "
   ]
  },
  {
   "cell_type": "markdown",
   "metadata": {},
   "source": [
    "## 1004. Max Consecutive Ones III\n",
    "[1004. Max Consecutive Ones III](https://leetcode.com/problems/max-consecutive-ones-iii/) "
   ]
  },
  {
   "cell_type": "markdown",
   "metadata": {},
   "source": [
    "#### key to understand two pointers and sliding window \n",
    "try every start point. \n",
    "\n",
    "arr = [1, 1, 0, 0, 1, 1, 1\n",
    "\n",
    "[l, r): spend all k flips. or less thank k flips. \n",
    "\n",
    "\n",
    "\n",
    "\n"
   ]
  },
  {
   "cell_type": "code",
   "execution_count": 19,
   "metadata": {},
   "outputs": [],
   "source": [
    "class Solution:\n",
    "    def longestOnes(self, nums, k: int) -> int:\n",
    "        \n",
    "        if len(nums) <= k: \n",
    "            return len(nums) \n",
    "        \n",
    "        n = len(nums) \n",
    "        i = 0 \n",
    "        j = 0  \n",
    "        res = 0\n",
    "        num_zeros = 0 \n",
    "        \n",
    "        while j < n: \n",
    "            if nums[j] == 1: \n",
    "                count = j - i + 1\n",
    "                res = max(res, count) \n",
    "            else: \n",
    "                num_zeros += 1 \n",
    "                if num_zeros <= k: \n",
    "                    count = j - i + 1\n",
    "                    res = max(res, count) \n",
    "                else: \n",
    "                    # invalid \n",
    "                    while i <= j and nums[i] != 0: \n",
    "                        i += 1 \n",
    "                    i += 1 \n",
    "            j += 1 \n",
    "                    \n",
    "        return res "
   ]
  },
  {
   "cell_type": "code",
   "execution_count": 21,
   "metadata": {},
   "outputs": [],
   "source": [
    "class Solution:\n",
    "    def longestOnes(self, nums, k: int) -> int: \n",
    "        \"\"\"\n",
    "        sliding window: \n",
    "        fix left, expand right \n",
    "        \n",
    "        increment left, maintain k. \n",
    "        \n",
    "        \"\"\"\n",
    "        \n",
    "        if len(nums) <= k: \n",
    "            return len(nums) \n",
    "        \n",
    "        n = len(nums) \n",
    "        r = 0 \n",
    "        res = 0 \n",
    "        for l in range(n): \n",
    "            # expand right \n",
    "            # teminate condition: r >= n \n",
    "            # or k <= 0 \n",
    "            while r < n and (nums[r] == 1 or (nums[r] == 0 and k > 0)):   \n",
    "                if nums[r] == 0: \n",
    "                    k -= 1 \n",
    "                r += 1 \n",
    "            \n",
    "            res = max(res, r - l) \n",
    "            \n",
    "            if nums[l] == 0: \n",
    "                k += 1 \n",
    "        return res             \n",
    "        "
   ]
  },
  {
   "cell_type": "markdown",
   "metadata": {},
   "source": [
    "### fix right  "
   ]
  },
  {
   "cell_type": "code",
   "execution_count": null,
   "metadata": {},
   "outputs": [],
   "source": [
    "\n",
    "class Solution:\n",
    "    def longestOnes(self, nums, k: int) -> int: \n",
    "        n = len(nums)\n",
    "        if len(nums) <= k: \n",
    "            return len(nums) \n",
    "        \n",
    "        l = 0 \n",
    "        res = 0 \n",
    "        for r in range(n): \n",
    "            \n",
    "            if nums[r] == 0: \n",
    "                k -= 1 \n",
    "                \n",
    "            # if invalid, make it valid  \n",
    "            if k < 0: \n",
    "                while nums[l] != 0: \n",
    "                    l += 1 \n",
    "                l += 1 \n",
    "                k += 1 \n",
    "            \n",
    "#             while l < n and k < 0: \n",
    "#                 if nums[l] == 0: \n",
    "#                     k += 1 \n",
    "#                 l += 1 \n",
    "            \n",
    "            res = max(res, r - l + 1) \n",
    "        return res "
   ]
  },
  {
   "cell_type": "markdown",
   "metadata": {},
   "source": [
    "## 239. Sliding Window Maximum\n",
    "[239. Sliding Window Maximum](https://leetcode.com/problems/sliding-window-maximum/) "
   ]
  },
  {
   "attachments": {
    "image.png": {
     "image/png": "[encoded data removed]"
    }
   },
   "cell_type": "markdown",
   "metadata": {},
   "source": [
    "Window data structure: \n",
    "- add \n",
    "- remove \n",
    "- max \n",
    "![image.png](attachment:image.png)\n"
   ]
  },
  {
   "cell_type": "markdown",
   "metadata": {},
   "source": [
    "Deque: the left most element is the greatest. \n",
    "\n",
    "Deque information: \n",
    "- max in current window  \n",
    "- potential max(s) in subsequent windows \n",
    "\n",
    "How we update the deque as we move the window? \n",
    "- if the max (first element in the deque) is out of the range, we remove it, and thus the second greatest element is the max in current window. \n",
    "- if the max is within the range, then it is the max, and we simply append it to the result.  \n",
    "```\n",
    "         window                max         deque \n",
    "[1]  3  -1  -3  5  3  6  7      1         [1]\n",
    "[1   3] -1  -3  5  3  6  7      3         [3]\n",
    "[1   3  -1] -3  5  3  6  7      3         [3, -1]  # -1 is the potintial max \n",
    "1   [3  -1  -3]  5  3  6  7      3         [3, -1, -3] \n",
    "1    3  [-1  -3  5]  3  6  7      3        [5] \n",
    "1    3  -1  [-3  5  3]  6  7      3        [5, 3]  \n",
    "1    3  -1  -3  [5  3  6]  7      3        [6]  \n",
    "\n",
    "\n",
    "```\n",
    "\n",
    "\n"
   ]
  },
  {
   "cell_type": "markdown",
   "metadata": {},
   "source": [
    "\n",
    "Another example: \n",
    "\n",
    "```\n",
    "[1    3  -1]  3  2  1  1  7      3        [3, -1]   \n",
    "1    [3  -1  3]  2  1  1  7      3        [3, -1]  \n",
    "1    3  -1  3  [2  1  1]  7      3        [6]  \n",
    "\n",
    "```"
   ]
  },
  {
   "cell_type": "code",
   "execution_count": 23,
   "metadata": {},
   "outputs": [],
   "source": [
    "class Solution:\n",
    "    def maxSlidingWindow(self, nums, k: int):\n",
    "        n = len(nums) \n",
    "        window_size = n - k + 1 \n",
    "        res = [0 for _ in range(window_size)] \n",
    "        q = deque() \n",
    "        \n",
    "        for idx, item in enumerate(nums): \n",
    "            # update q: check if current max is out of range  \n",
    "            left_boundry = idx - k + 1\n",
    "            if q and q[0] < left_boundry: \n",
    "                q.popleft() \n",
    "            # update q: push new element to q. \n",
    "            # note: potential max for subsequent windows, order? \n",
    "            while q and nums[q[-1]] <= item:  # note has to be <= \n",
    "            # while q and nums[q[-1]] < item:  # note has to be <= \n",
    "                q.pop()  \n",
    "            q.append(idx) \n",
    "            \n",
    "            # append max to result \n",
    "            if idx >= k - 1: \n",
    "                res[idx - k + 1] = nums[q[0]]   # note append the element rather than the index \n",
    "        \n",
    "        return res \n",
    "        "
   ]
  },
  {
   "cell_type": "markdown",
   "metadata": {},
   "source": [
    "## 295. Find Median from Data Stream\n",
    "[295. Find Median from Data Stream](https://leetcode.com/problems/find-median-from-data-stream/) "
   ]
  },
  {
   "cell_type": "markdown",
   "metadata": {},
   "source": [
    "### Naive approach "
   ]
  },
  {
   "cell_type": "code",
   "execution_count": 24,
   "metadata": {},
   "outputs": [],
   "source": [
    "class MedianFinder:\n",
    "\n",
    "    def __init__(self):\n",
    "        self.data = []  \n",
    "        self.length = 0 \n",
    "        \n",
    "\n",
    "    def addNum(self, num: int) -> None: \n",
    "        self.data.append(num) \n",
    "        self.length = len(self.data)\n",
    "        \n",
    "\n",
    "    def findMedian(self) -> float:\n",
    "        self.data.sort() \n",
    "        if self.length % 2 == 0: \n",
    "            median_idx_1 = self.length // 2 \n",
    "            median_idx_2 = median_idx_1 - 1  \n",
    "            res = self.data[median_idx_1] + self.data[median_idx_2]\n",
    "            return res / 2 \n",
    "        else: \n",
    "            median_idx = (self.length - 1) // 2 \n",
    "            return self.data[median_idx]\n",
    "\n"
   ]
  },
  {
   "cell_type": "code",
   "execution_count": null,
   "metadata": {},
   "outputs": [],
   "source": []
  },
  {
   "cell_type": "markdown",
   "metadata": {},
   "source": [
    "## 480. Sliding Window Median\n",
    "[480. Sliding Window Median](https://leetcode.com/problems/sliding-window-median/) "
   ]
  },
  {
   "cell_type": "markdown",
   "metadata": {},
   "source": [
    "Is there a data-structure out there that we can use (in one or more quantities) to obtain the median element extremely fast, say O(1) time while having the ability to perform the other operations fairly efficiently as well?\n",
    "\n"
   ]
  },
  {
   "cell_type": "code",
   "execution_count": null,
   "metadata": {},
   "outputs": [],
   "source": []
  },
  {
   "cell_type": "code",
   "execution_count": null,
   "metadata": {},
   "outputs": [],
   "source": []
  },
  {
   "cell_type": "markdown",
   "metadata": {},
   "source": []
  },
  {
   "cell_type": "code",
   "execution_count": null,
   "metadata": {},
   "outputs": [],
   "source": []
  },
  {
   "cell_type": "markdown",
   "metadata": {},
   "source": [
    "## 76. Minimum Window Substring\n",
    "[76. Minimum Window Substring](https://leetcode.com/problems/minimum-window-substring/)"
   ]
  },
  {
   "cell_type": "code",
   "execution_count": null,
   "metadata": {},
   "outputs": [],
   "source": []
  },
  {
   "cell_type": "markdown",
   "metadata": {},
   "source": [
    "## 424. Longest Repeating Character Replacement \n",
    "[424. Longest Repeating Character Replacement](https://leetcode.com/problems/longest-repeating-character-replacement/) "
   ]
  },
  {
   "cell_type": "code",
   "execution_count": null,
   "metadata": {},
   "outputs": [],
   "source": []
  },
  {
   "cell_type": "markdown",
   "metadata": {},
   "source": [
    "## 42. Trapping Rain Water\n",
    "[42. Trapping Rain Water](https://leetcode.com/problems/trapping-rain-water/)"
   ]
  },
  {
   "cell_type": "code",
   "execution_count": null,
   "metadata": {},
   "outputs": [],
   "source": []
  },
  {
   "cell_type": "code",
   "execution_count": null,
   "metadata": {},
   "outputs": [],
   "source": []
  },
  {
   "cell_type": "markdown",
   "metadata": {},
   "source": [
    "## 407. Trapping Rain Water II \n",
    "[407. Trapping Rain Water II ](https://leetcode.com/problems/trapping-rain-water-ii/)"
   ]
  },
  {
   "cell_type": "code",
   "execution_count": null,
   "metadata": {},
   "outputs": [],
   "source": []
  },
  {
   "cell_type": "markdown",
   "metadata": {},
   "source": [
    "## 84. Largest Rectangle in Histogram \n",
    "[84. Largest Rectangle in Histogram](https://leetcode.com/problems/largest-rectangle-in-histogram/)"
   ]
  },
  {
   "cell_type": "code",
   "execution_count": null,
   "metadata": {},
   "outputs": [],
   "source": []
  },
  {
   "cell_type": "code",
   "execution_count": null,
   "metadata": {},
   "outputs": [],
   "source": []
  }
 ],
 "metadata": {
  "kernelspec": {
   "display_name": "Python 3",
   "language": "python",
   "name": "python3"
  },
  "language_info": {
   "codemirror_mode": {
    "name": "ipython",
    "version": 3
   },
   "file_extension": ".py",
   "mimetype": "text/x-python",
   "name": "python",
   "nbconvert_exporter": "python",
   "pygments_lexer": "ipython3",
   "version": "3.6.12"
  }
 },
 "nbformat": 4,
 "nbformat_minor": 4
}
