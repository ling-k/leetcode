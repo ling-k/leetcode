{
 "cells": [
  {
   "cell_type": "markdown",
   "metadata": {},
   "source": [
    "# Binary Tree "
   ]
  },
  {
   "cell_type": "markdown",
   "metadata": {},
   "source": [
    "## Tree traversal \n",
    "- pre-order: pre is w.r.t root. [root - left - right] \n",
    "- in-order: in between [left - root - right] \n",
    "- post-order: [left - right - root]\n"
   ]
  },
  {
   "cell_type": "markdown",
   "metadata": {},
   "source": [
    "## 144. Binary Tree Preorder Traversal \n",
    "[144. Binary Tree Preorder Traversal](https://leetcode.com/problems/binary-tree-preorder-traversal/) \n"
   ]
  },
  {
   "cell_type": "code",
   "execution_count": null,
   "metadata": {},
   "outputs": [],
   "source": [
    "class Node:\n",
    "    def __init__(self, val=0, left=None, right=None):\n",
    "        self.val = val\n",
    "        self.left = left\n",
    "        self.right = right \n",
    "\n",
    "root = Node(1)\n",
    "root.left = Node(2)\n",
    "root.right = Node(3)\n",
    "root.left.left = Node(4)\n",
    "root.left.right = Node(5) "
   ]
  },
  {
   "cell_type": "markdown",
   "metadata": {},
   "source": [
    "```\n",
    "\n",
    "        1 \n",
    "\n",
    "     2      3\n",
    "  4   5  \n",
    "```"
   ]
  },
  {
   "cell_type": "code",
   "execution_count": 6,
   "metadata": {},
   "outputs": [
    {
     "data": {
      "text/plain": [
       "[1, 2, 4, 5, 3]"
      ]
     },
     "execution_count": 6,
     "metadata": {},
     "output_type": "execute_result"
    }
   ],
   "source": [
    "class Solution:\n",
    "    def preorderTraversal(self, root):\n",
    "        self.res = [] \n",
    "        self.pre_rec(root)\n",
    "        \n",
    "        return self.res \n",
    "        \n",
    "    def pre_rec(self, root): \n",
    "        if root == None: \n",
    "            return \n",
    "        self.res.append(root.val) \n",
    "        \n",
    "        self.pre_rec(root.left) \n",
    "        self.pre_rec(root.right)  \n",
    "\n",
    "a = Solution() \n",
    "a.preorderTraversal(root)"
   ]
  },
  {
   "cell_type": "markdown",
   "metadata": {},
   "source": [
    "## 94. Binary Tree Inorder Traversal\n",
    "[94. Binary Tree Inorder Traversal](https://leetcode.com/problems/binary-tree-inorder-traversal/)"
   ]
  },
  {
   "cell_type": "code",
   "execution_count": 8,
   "metadata": {},
   "outputs": [
    {
     "data": {
      "text/plain": [
       "[4, 2, 5, 1, 3]"
      ]
     },
     "execution_count": 8,
     "metadata": {},
     "output_type": "execute_result"
    }
   ],
   "source": [
    "class Solution:\n",
    "    def inorderTraversal(self, root): \n",
    "        res = [] \n",
    "        def rec(root): \n",
    "            if root == None: \n",
    "                return \n",
    "            rec(root.left) \n",
    "            res.append(root.val) \n",
    "            rec(root.right) \n",
    "\n",
    "        rec(root)\n",
    "        return res \n",
    "a = Solution() \n",
    "a.inorderTraversal(root)"
   ]
  },
  {
   "cell_type": "markdown",
   "metadata": {},
   "source": [
    "## 145. Binary Tree Postorder Traversal \n",
    "[145. Binary Tree Postorder Traversal](https://leetcode.com/problems/binary-tree-postorder-traversal/) "
   ]
  },
  {
   "cell_type": "code",
   "execution_count": 10,
   "metadata": {},
   "outputs": [
    {
     "data": {
      "text/plain": [
       "[4, 5, 2, 3, 1]"
      ]
     },
     "execution_count": 10,
     "metadata": {},
     "output_type": "execute_result"
    }
   ],
   "source": [
    "class Solution:\n",
    "    def postorderTraversal(self, root): \n",
    "        res = [] \n",
    "        def rec(root): \n",
    "            if root == None: \n",
    "                return \n",
    "            rec(root.left)\n",
    "            rec(root.right) \n",
    "            res.append(root.val)\n",
    "            \n",
    "        rec(root)\n",
    "        \n",
    "        return res \n",
    "a = Solution() \n",
    "a.postorderTraversal(root)"
   ]
  },
  {
   "cell_type": "markdown",
   "metadata": {},
   "source": [
    "## Balanced binary tree \n",
    "\n",
    "A binary tree in which the left and right subtrees of every node differ in height by no more than 1."
   ]
  },
  {
   "cell_type": "markdown",
   "metadata": {},
   "source": [
    "### 110. Balanced Binary Tree \n",
    "[110. Balanced Binary Tree](https://leetcode.com/problems/balanced-binary-tree/)"
   ]
  },
  {
   "cell_type": "code",
   "execution_count": 15,
   "metadata": {},
   "outputs": [
    {
     "data": {
      "text/plain": [
       "True"
      ]
     },
     "execution_count": 15,
     "metadata": {},
     "output_type": "execute_result"
    }
   ],
   "source": [
    "class Solution:\n",
    "    def isBalanced(self, root) -> bool: \n",
    "        if root == None: \n",
    "            return True  \n",
    "        \n",
    "        return self.rec(root) \n",
    "    \n",
    "    \n",
    "    def maxDepth(self, root): \n",
    "        # base case\n",
    "        if root == None: \n",
    "            return 0 \n",
    "        # step 1: \n",
    "        left_height = self.maxDepth(root.left)\n",
    "        right_height = self.maxDepth(root.right) \n",
    "        \n",
    "        # step 2: When we have the the numbers, what we need to do in current level? \n",
    "        cur_height = max(left_height, right_height) + 1 \n",
    "        \n",
    "        # step 3: current height \n",
    "        return cur_height \n",
    "    \n",
    "    def rec(self, root): \n",
    "        # base case \n",
    "        if root == None: \n",
    "            return True \n",
    "\n",
    "        # left and right \n",
    "        left_height = self.maxDepth(root.left)\n",
    "        right_height = self.maxDepth(root.right) \n",
    "        \n",
    "        # assume we have the information \n",
    "        if abs(left_height - right_height) > 1: \n",
    "            return False \n",
    "        return self.rec(root.left) and self.rec(root.right)\n",
    "    \n",
    "    # time: n log(n) \n",
    "    # space: n \n",
    "    \n",
    "a = Solution() \n",
    "a.isBalanced(root)"
   ]
  },
  {
   "cell_type": "code",
   "execution_count": null,
   "metadata": {},
   "outputs": [],
   "source": []
  },
  {
   "cell_type": "code",
   "execution_count": null,
   "metadata": {},
   "outputs": [],
   "source": []
  },
  {
   "attachments": {
    "image.png": {
     "image/png": "[encoded data removed]"
    }
   },
   "cell_type": "markdown",
   "metadata": {},
   "source": [
    "## Complete binary tree \n",
    "A complete binary tree is a binary tree in which every level, except possibly the last, is completely filled, and all nodes in the last level are as far left as possible. \n",
    "![image.png](attachment:image.png)"
   ]
  },
  {
   "cell_type": "code",
   "execution_count": null,
   "metadata": {},
   "outputs": [],
   "source": []
  },
  {
   "attachments": {
    "image.png": {
     "image/png": "[encoded data removed]"
    }
   },
   "cell_type": "markdown",
   "metadata": {},
   "source": [
    "## Binary search tree \n",
    "In computer science, a binary search tree (BST), also called an ordered or sorted binary tree, is a rooted binary tree data structure whose internal nodes each store a key greater than all the keys in the node's left subtree and less than those in its right subtree.\n",
    "![image.png](attachment:image.png)"
   ]
  },
  {
   "cell_type": "code",
   "execution_count": null,
   "metadata": {},
   "outputs": [],
   "source": []
  },
  {
   "cell_type": "markdown",
   "metadata": {},
   "source": [
    "## 104. Maximum Depth of Binary Tree \n",
    "[104. Maximum Depth of Binary Tree](https://leetcode.com/problems/maximum-depth-of-binary-tree/)"
   ]
  },
  {
   "cell_type": "code",
   "execution_count": 14,
   "metadata": {},
   "outputs": [
    {
     "data": {
      "text/plain": [
       "3"
      ]
     },
     "execution_count": 14,
     "metadata": {},
     "output_type": "execute_result"
    }
   ],
   "source": [
    "class Solution:\n",
    "    def maxDepth(self, root) -> int: \n",
    "        if root == None: \n",
    "            return 0 \n",
    "        return max(self.maxDepth(root.left), self.maxDepth(root.right)) + 1 \n",
    "\n",
    "class Solution:\n",
    "    def maxDepth(self, root) -> int: \n",
    "        # base case\n",
    "        if root == None: \n",
    "            return 0 \n",
    "        # step 1: \n",
    "        left_height = self.maxDepth(root.left)\n",
    "        right_height = self.maxDepth(root.right) \n",
    "        \n",
    "        # step 2: When we have the the numbers, what we need to do in current level? \n",
    "        cur_height = max(left_height, right_height) + 1 \n",
    "        \n",
    "        # step 3: current height \n",
    "        return cur_height \n",
    "\n",
    "    # time: O(n), assume n node \n",
    "    # space: \n",
    "a = Solution() \n",
    "a.maxDepth(root)"
   ]
  },
  {
   "cell_type": "markdown",
   "metadata": {},
   "source": [
    "## 101. Symmetric Tree\n",
    "[101. Symmetric Tree](https://leetcode.com/problems/symmetric-tree/)"
   ]
  },
  {
   "cell_type": "markdown",
   "metadata": {},
   "source": [
    "## 100. Same Tree \n",
    "[100. Same Tree](https://leetcode.com/problems/same-tree/) "
   ]
  },
  {
   "cell_type": "code",
   "execution_count": 1,
   "metadata": {},
   "outputs": [],
   "source": [
    "class Solution:\n",
    "    def isSameTree(self, p, q) -> bool:\n",
    "        if p == None and q == None: \n",
    "            return True \n",
    "        elif p == None or q == None: \n",
    "            return False \n",
    "        \n",
    "        return self.is_same(p, q) \n",
    "        \n",
    "    def is_same(self, p, q): \n",
    "        # base case \n",
    "        if p == None and q == None: \n",
    "            return True \n",
    "        elif p == None or q == None: \n",
    "            return False \n",
    "        elif p.val != q.val: \n",
    "            return False \n",
    "        \n",
    "        # recurcive rule \n",
    "        return self.is_same(p.left, q.left) and self.is_same(p.right, q.right)\n",
    "        "
   ]
  },
  {
   "cell_type": "code",
   "execution_count": null,
   "metadata": {},
   "outputs": [],
   "source": []
  },
  {
   "cell_type": "code",
   "execution_count": null,
   "metadata": {},
   "outputs": [],
   "source": []
  }
 ],
 "metadata": {
  "kernelspec": {
   "display_name": "Python 3",
   "language": "python",
   "name": "python3"
  },
  "language_info": {
   "codemirror_mode": {
    "name": "ipython",
    "version": 3
   },
   "file_extension": ".py",
   "mimetype": "text/x-python",
   "name": "python",
   "nbconvert_exporter": "python",
   "pygments_lexer": "ipython3",
   "version": "3.6.12"
  }
 },
 "nbformat": 4,
 "nbformat_minor": 4
}
