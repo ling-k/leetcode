{
 "cells": [
  {
   "cell_type": "markdown",
   "metadata": {},
   "source": [
    "# Recursion "
   ]
  },
  {
   "cell_type": "markdown",
   "metadata": {},
   "source": [
    "## What is recursion: \n",
    "\n",
    "\n"
   ]
  },
  {
   "cell_type": "markdown",
   "metadata": {},
   "source": [
    "Recursion occurs when a thing is defined in terms of itself. It is widely used in mathematics and computer science. A class of methods exhibits recursive behavior when it can be defined by two properties: \n",
    "- A simple base case - terminating condition that does not use recursion to produce an answer.  \n",
    "- A recursive step - a set of rules that reduces all successive cases toward the base case. "
   ]
  },
  {
   "cell_type": "markdown",
   "metadata": {},
   "source": [
    "624. Fibonacci Number Lite \n",
    "\n",
    "[Leetcode 509. Fibonacci Number](https://leetcode.com/problems/fibonacci-number/) "
   ]
  },
  {
   "cell_type": "markdown",
   "metadata": {},
   "source": [
    "### solution 1: recursion \n",
    "top down: "
   ]
  },
  {
   "cell_type": "code",
   "execution_count": 7,
   "metadata": {},
   "outputs": [
    {
     "name": "stdout",
     "output_type": "stream",
     "text": [
      "2 1\n",
      "3 2\n",
      "2 1\n",
      "4 3\n",
      "2 1\n",
      "3 2\n",
      "5 5\n",
      "2 1\n",
      "3 2\n",
      "2 1\n",
      "4 3\n",
      "6 8\n"
     ]
    },
    {
     "data": {
      "text/plain": [
       "8"
      ]
     },
     "execution_count": 7,
     "metadata": {},
     "output_type": "execute_result"
    }
   ],
   "source": [
    "class Solution:\n",
    "    def fib(self, n: int) -> int: \n",
    "        if n <= 0: \n",
    "            return 0 \n",
    "        if n == 1: \n",
    "            return 1 \n",
    "        cur_res = self.fib(n-1) + self.fib(n-2) \n",
    "        print(n, cur_res)\n",
    "        return cur_res \n",
    "\n",
    "a = Solution() \n",
    "n = 2 \n",
    "a.fib(6)\n"
   ]
  },
  {
   "cell_type": "code",
   "execution_count": null,
   "metadata": {},
   "outputs": [],
   "source": []
  }
 ],
 "metadata": {
  "kernelspec": {
   "display_name": "Python 3",
   "language": "python",
   "name": "python3"
  },
  "language_info": {
   "codemirror_mode": {
    "name": "ipython",
    "version": 3
   },
   "file_extension": ".py",
   "mimetype": "text/x-python",
   "name": "python",
   "nbconvert_exporter": "python",
   "pygments_lexer": "ipython3",
   "version": "3.6.12"
  }
 },
 "nbformat": 4,
 "nbformat_minor": 4
}
