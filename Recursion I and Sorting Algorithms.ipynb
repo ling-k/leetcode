{
 "cells": [
  {
   "cell_type": "markdown",
   "metadata": {},
   "source": [
    "# Recursion "
   ]
  },
  {
   "cell_type": "markdown",
   "metadata": {},
   "source": [
    "## What is recursion: \n",
    "\n",
    "\n"
   ]
  },
  {
   "cell_type": "markdown",
   "metadata": {},
   "source": [
    "Recursion occurs when a thing is defined in terms of itself. It is widely used in mathematics and computer science. A class of methods exhibits recursive behavior when it can be defined by two properties: \n",
    "- A simple base case - terminating condition that does not use recursion to produce an answer.  \n",
    "- A recursive step - a set of rules that reduces all successive cases toward the base case. "
   ]
  },
  {
   "cell_type": "markdown",
   "metadata": {},
   "source": [
    "## 624. Fibonacci Number Lite \n",
    "\n",
    "[Leetcode 509. Fibonacci Number](https://leetcode.com/problems/fibonacci-number/) "
   ]
  },
  {
   "cell_type": "markdown",
   "metadata": {},
   "source": [
    "### solution 1: recursion \n",
    "top down: "
   ]
  },
  {
   "cell_type": "code",
   "execution_count": 31,
   "metadata": {},
   "outputs": [
    {
     "name": "stdout",
     "output_type": "stream",
     "text": [
      "2 1\n",
      "3 2\n",
      "2 1\n",
      "4 3\n",
      "2 1\n",
      "3 2\n",
      "5 5\n",
      "2 1\n",
      "3 2\n",
      "2 1\n",
      "4 3\n",
      "6 8\n"
     ]
    },
    {
     "data": {
      "text/plain": [
       "8"
      ]
     },
     "execution_count": 31,
     "metadata": {},
     "output_type": "execute_result"
    }
   ],
   "source": [
    "class Solution:\n",
    "    def fib(self, n: int) -> int: \n",
    "        if n <= 0: \n",
    "            return 0 \n",
    "        if n == 1: \n",
    "            return 1 \n",
    "        cur_res = self.fib(n-1) + self.fib(n-2) \n",
    "        print(n, cur_res)\n",
    "        return cur_res \n",
    "\n",
    "a = Solution() \n",
    "n = 2 \n",
    "a.fib(6)\n"
   ]
  },
  {
   "cell_type": "markdown",
   "metadata": {},
   "source": [
    "## 13. a to the power of b \n",
    "[Leetcode: 50. Pow(x, n)](https://leetcode.com/problems/powx-n/) \n"
   ]
  },
  {
   "cell_type": "code",
   "execution_count": 32,
   "metadata": {},
   "outputs": [
    {
     "data": {
      "text/plain": [
       "-32"
      ]
     },
     "execution_count": 32,
     "metadata": {},
     "output_type": "execute_result"
    }
   ],
   "source": [
    "class Solution(object):\n",
    "    def power(self, a, b): \n",
    "        if b == 0: \n",
    "            return 1 \n",
    "#         if b == 1: \n",
    "#             return a \n",
    "#         if b == 2: \n",
    "#             return a*a \n",
    "        \n",
    "        return a*self.power(a, b-1)\n",
    "        \n",
    "       \n",
    "prob = Solution() \n",
    "a = -2 \n",
    "b = 5\n",
    "prob.power(a, b)\n",
    "        \n",
    "        "
   ]
  },
  {
   "cell_type": "code",
   "execution_count": 33,
   "metadata": {},
   "outputs": [
    {
     "data": {
      "text/plain": [
       "17592186044416"
      ]
     },
     "execution_count": 33,
     "metadata": {},
     "output_type": "execute_result"
    }
   ],
   "source": [
    "class Solution(object):\n",
    "    def power(self, a, b): \n",
    "        if b == 0: \n",
    "            return 1 \n",
    "        if b == 1: \n",
    "            return a \n",
    "        if b == 2: \n",
    "            return a*a \n",
    "        \n",
    "        if b % 2 == 0: \n",
    "            return self.power(a, b // 2) * self.power(a, b // 2) \n",
    "        else: \n",
    "            return self.power(a, b // 2) * self.power(a, b // 2) * a \n",
    "        \n",
    "       \n",
    "prob = Solution() \n",
    "a = -2 \n",
    "b = 44\n",
    "prob.power(a, b)\n",
    "  "
   ]
  },
  {
   "cell_type": "code",
   "execution_count": 34,
   "metadata": {},
   "outputs": [
    {
     "data": {
      "text/plain": [
       "2"
      ]
     },
     "execution_count": 34,
     "metadata": {},
     "output_type": "execute_result"
    }
   ],
   "source": [
    "2 % 3"
   ]
  },
  {
   "cell_type": "markdown",
   "metadata": {},
   "source": [
    "## 231. Power of Two \n",
    "[Leetcode: 231. Power of Two](https://leetcode.com/problems/power-of-two/) \n"
   ]
  },
  {
   "cell_type": "code",
   "execution_count": 35,
   "metadata": {},
   "outputs": [],
   "source": [
    "class Solution:\n",
    "    def isPowerOfTwo(self, n: int) -> bool: \n",
    "        if n == 2: \n",
    "            return True \n",
    "        if n == 1: \n",
    "            return True \n",
    "        if n == 0: \n",
    "            return False \n",
    "        \n",
    "        if n % 2 == 0: \n",
    "            return self.isPowerOfTwo(n // 2)  \n",
    "        else: \n",
    "            return False \n",
    "        "
   ]
  },
  {
   "cell_type": "code",
   "execution_count": null,
   "metadata": {},
   "outputs": [],
   "source": []
  },
  {
   "cell_type": "code",
   "execution_count": null,
   "metadata": {},
   "outputs": [],
   "source": []
  },
  {
   "cell_type": "markdown",
   "metadata": {},
   "source": [
    "## 326. Power of Three \n",
    "[Leetcode: 326. Power of Three](https://leetcode.com/problems/power-of-three/)"
   ]
  },
  {
   "cell_type": "code",
   "execution_count": 36,
   "metadata": {},
   "outputs": [],
   "source": [
    "class Solution:\n",
    "    def isPowerOfThree(self, n: int) -> bool:\n",
    "        if n <= 0: \n",
    "            return False \n",
    "        if n == 1: \n",
    "            return True  \n",
    "        if n % 3 != 0: \n",
    "            return False \n",
    "\n",
    "        return self.helper(n) \n",
    "    \n",
    "    def helper(self, n):  \n",
    "        # base case \n",
    "        if n == 3 or n == -3: \n",
    "            return True \n",
    "        \n",
    "        if n % 3 == 0: \n",
    "            return self.helper(n//3) \n",
    "        else: \n",
    "            return False \n",
    "\n",
    "        "
   ]
  },
  {
   "cell_type": "markdown",
   "metadata": {},
   "source": [
    "## 50. Pow(x, n) \n",
    "[Leetcode: 50. Pow(x, n)](https://leetcode.com/problems/powx-n/) \n",
    "\n",
    "Tips: \n",
    "\n",
    "save computation: \n",
    "\n",
    "res = self.helper(x, n // 2) \n",
    "            \n",
    "            if n % 2 == 0: \n",
    "                return res * res  \n",
    "            else: \n",
    "                return res * res * x  \n"
   ]
  },
  {
   "cell_type": "code",
   "execution_count": 37,
   "metadata": {},
   "outputs": [],
   "source": [
    "class Solution:\n",
    "    def myPow(self, x: float, n: int) -> float:    \n",
    "\n",
    "        if x == 0.0 and n == 0: \n",
    "            return 1 \n",
    "        if x == 0.0: \n",
    "            return x \n",
    "        \n",
    "        if n == 0: \n",
    "            return 1 \n",
    "        if n == 1: \n",
    "            return x \n",
    "        \n",
    "        if n > 0: \n",
    "            return self.helper(x, n) \n",
    "        else: \n",
    "            return 1. / self.helper(x, -n)\n",
    "            \n",
    "        \n",
    "    def helper(self, x, n):\n",
    "        if n == 1: \n",
    "            return x \n",
    "        elif n == 0: \n",
    "            return 1\n",
    "        else: \n",
    "            res = self.helper(x, n // 2) \n",
    "            if n % 2 == 0: \n",
    "                return res * res  \n",
    "            else: \n",
    "                return res * res * x  \n"
   ]
  },
  {
   "cell_type": "code",
   "execution_count": null,
   "metadata": {},
   "outputs": [],
   "source": []
  }
 ],
 "metadata": {
  "kernelspec": {
   "display_name": "Python 3",
   "language": "python",
   "name": "python3"
  },
  "language_info": {
   "codemirror_mode": {
    "name": "ipython",
    "version": 3
   },
   "file_extension": ".py",
   "mimetype": "text/x-python",
   "name": "python",
   "nbconvert_exporter": "python",
   "pygments_lexer": "ipython3",
   "version": "3.6.12"
  }
 },
 "nbformat": 4,
 "nbformat_minor": 4
}
